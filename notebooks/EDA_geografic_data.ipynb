{
 "cells": [
  {
   "cell_type": "code",
   "execution_count": null,
   "metadata": {},
   "outputs": [],
   "source": [
    "import pandas as pd\n",
    "import geopandas as gpd\n",
    "import sys\n",
    "\n",
    "sys.path.append(\"../\")"
   ]
  },
  {
   "cell_type": "code",
   "execution_count": null,
   "metadata": {},
   "outputs": [],
   "source": [
    "print('\\n'.join(f'{m.__name__} {m.__version__}' for m in globals().values() if getattr(m, '__version__', None)))"
   ]
  },
  {
   "cell_type": "code",
   "execution_count": null,
   "metadata": {},
   "outputs": [],
   "source": [
    "# gdf = gpd.read_file('../data/geometrie/2016/gem_2016.shp')\n",
    "# gdf = gdf.to_crs({'init': 'epsg:26920'})\n",
    "# gdf['seafl_twt'] = 2 * 1000 * gdf.Water_Dept / 1485\n",
    "# gdf.to_file('data_out.shp')"
   ]
  },
  {
   "cell_type": "code",
   "execution_count": null,
   "metadata": {},
   "outputs": [],
   "source": [
    "\n",
    "gdf[['GM_CODE', 'geometry']].head()"
   ]
  },
  {
   "cell_type": "code",
   "execution_count": null,
   "metadata": {},
   "outputs": [],
   "source": [
    "gemeente_shp = {'2016': 'gem_2016.shp', \n",
    " '2017': 'gemeente_2017_v3.shp',\n",
    " '2018': 'gemeente_2018_v3.shp',\n",
    " '2019': 'gemeente_2019_v2up.shp',\n",
    " '2020': 'gemeente_2020_v1.shp'}\n",
    "wijk_shp = {'2016': 'wijk_2016.shp', \n",
    " '2017': 'wijk_2017_v3.shp',\n",
    " '2018': 'wijk_2018_v3.shp',\n",
    " '2019': 'wijk_2019_v2up.shp',\n",
    " '2020': 'wijk_2020_v1.shp'}"
   ]
  },
  {
   "cell_type": "code",
   "execution_count": null,
   "metadata": {},
   "outputs": [],
   "source": [
    "# gdf_all = pd.DataFrame()\n",
    "# for year, filename in gemeente_shp.items():\n",
    "#     gdf = gpd.read_file(f'../data/geometrie/{year}/{filename}')\n",
    "#     gdf = gdf[['GM_CODE', 'geometry']]\n",
    "#     gdf = gdf.rename(columns={'GM_CODE':'codering_regio'})\n",
    "#     gdf['interval'] = year\n",
    "#     gdf_all = pd.concat([gdf_all, gdf])"
   ]
  },
  {
   "cell_type": "code",
   "execution_count": null,
   "metadata": {},
   "outputs": [],
   "source": [
    "# gdf = gpd.read_file(f'../data/geometrie/2020/wijk_2020_v1.shp')\n",
    "# gdf.head()"
   ]
  },
  {
   "cell_type": "code",
   "execution_count": null,
   "metadata": {},
   "outputs": [],
   "source": [
    "gdf_all = pd.DataFrame()\n",
    "for year, filename in wijk_shp.items():\n",
    "    gdf = gpd.read_file(f'../data/geometrie/{year}/{filename}')\n",
    "    gdf = gdf[['WK_CODE', 'geometry']]\n",
    "    gdf = gdf.rename(columns={'WK_CODE':'codering_regio'})\n",
    "    gdf['interval'] = year\n",
    "    gdf_all = pd.concat([gdf_all, gdf])"
   ]
  },
  {
   "cell_type": "code",
   "execution_count": null,
   "metadata": {},
   "outputs": [],
   "source": [
    "gdf_all.head()"
   ]
  },
  {
   "cell_type": "code",
   "execution_count": null,
   "metadata": {},
   "outputs": [],
   "source": [
    "gdf_all[gdf_all['interval']=='2020']['geometry'].plot()"
   ]
  },
  {
   "cell_type": "code",
   "execution_count": null,
   "metadata": {},
   "outputs": [],
   "source": [
    "datapath = '../data/'\n",
    "filename = 'df_prep_for_train_WMO_202103112150.parquet.gzip'\n",
    "df = pd.read_parquet(datapath+filename)"
   ]
  },
  {
   "cell_type": "code",
   "execution_count": null,
   "metadata": {},
   "outputs": [],
   "source": [
    "df_2020 = df.copy().reset_index()\n",
    "df_2020 = df_2020[df_2020['interval']=='2020']"
   ]
  },
  {
   "cell_type": "code",
   "execution_count": null,
   "metadata": {},
   "outputs": [],
   "source": [
    "df_2020"
   ]
  },
  {
   "cell_type": "code",
   "execution_count": null,
   "metadata": {},
   "outputs": [],
   "source": [
    "gdf_2020 = gdf_all[gdf_all['interval']=='2020'].merge(df_2020, on='codering_regio')"
   ]
  },
  {
   "cell_type": "code",
   "execution_count": null,
   "metadata": {},
   "outputs": [],
   "source": [
    "gdf_2020.shape"
   ]
  },
  {
   "cell_type": "code",
   "execution_count": null,
   "metadata": {},
   "outputs": [],
   "source": [
    "gdf_2020.head()"
   ]
  },
  {
   "cell_type": "code",
   "execution_count": null,
   "metadata": {},
   "outputs": [],
   "source": [
    "import matplotlib.pyplot as plt\n",
    "\n",
    "fig, ax = plt.subplots(figsize=(20, 15))\n",
    "\n",
    "gdf_2020.plot(column='percentagewmoclienten', cmap='OrRd', edgecolor=\"lightgrey\", \n",
    "              ax=ax, legend=True, missing_kwds={'color': 'lightblue'})"
   ]
  },
  {
   "cell_type": "code",
   "execution_count": null,
   "metadata": {},
   "outputs": [],
   "source": [
    "df_2019 = df.copy().reset_index()\n",
    "df_2019 = df_2019[df_2019['interval']=='2019']\n",
    "gdf_2019 = gdf_all[gdf_all['interval']=='2019'].merge(df_2019, on='codering_regio')\n",
    "\n",
    "fig, ax = plt.subplots(figsize=(20, 15))\n",
    "\n",
    "gdf_2019.plot(column='percentagewmoclienten', edgecolor=\"lightgrey\", \n",
    "              ax=ax, legend=True, missing_kwds={'color': 'lightblue'})"
   ]
  },
  {
   "cell_type": "code",
   "execution_count": null,
   "metadata": {},
   "outputs": [],
   "source": []
  }
 ],
 "metadata": {
  "kernelspec": {
   "display_name": "Python [conda env:ames-env]",
   "language": "python",
   "name": "conda-env-ames-env-py"
  },
  "language_info": {
   "codemirror_mode": {
    "name": "ipython",
    "version": 3
   },
   "file_extension": ".py",
   "mimetype": "text/x-python",
   "name": "python",
   "nbconvert_exporter": "python",
   "pygments_lexer": "ipython3",
   "version": "3.7.9"
  },
  "toc": {
   "base_numbering": 1,
   "nav_menu": {},
   "number_sections": true,
   "sideBar": true,
   "skip_h1_title": false,
   "title_cell": "Table of Contents",
   "title_sidebar": "Contents",
   "toc_cell": false,
   "toc_position": {},
   "toc_section_display": true,
   "toc_window_display": false
  }
 },
 "nbformat": 4,
 "nbformat_minor": 4
}
