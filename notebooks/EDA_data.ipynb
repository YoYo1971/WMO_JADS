{
 "cells": [
  {
   "cell_type": "markdown",
   "metadata": {},
   "source": [
    "# Imports"
   ]
  },
  {
   "cell_type": "code",
   "execution_count": null,
   "metadata": {},
   "outputs": [],
   "source": [
    "from os import listdir\n",
    "from os.path import isfile, join\n",
    "import pandas as pd\n",
    "import cbsodata\n",
    "from datetime import datetime\n",
    "\n",
    "import matplotlib.pyplot as plt\n",
    "import seaborn as sns\n",
    "%matplotlib inline\n",
    "import altair as alt\n",
    "from sklearn import preprocessing\n",
    "import plotly.express as px\n",
    "from plotly.subplots import make_subplots\n",
    "import plotly.graph_objects as go\n",
    "\n",
    "# from typing import Union\n",
    "# from sklearn import preprocessing\n",
    "# from sklearn.preprocessing import MinMaxScaler\n",
    "# from sklearn.base import BaseEstimator, TransformerMixin\n",
    "# from sklearn.pipeline import Pipeline, make_pipeline\n",
    "\n",
    "pd.set_option('display.max_rows', 500)\n",
    "pd.set_option('display.max_columns', 500)\n",
    "pd.set_option('display.width', 1000)"
   ]
  },
  {
   "cell_type": "markdown",
   "metadata": {},
   "source": [
    "# Settings"
   ]
  },
  {
   "cell_type": "code",
   "execution_count": null,
   "metadata": {},
   "outputs": [],
   "source": [
    "## Dataframe parameters\n",
    "# locatie van dataset \n",
    "# DF_LOCATION = 'C:/_NoBackup/Git/__JADS/WMO_execute_group_project/data/df_dataset_WMO.parquet.gzip'\n",
    "# Location all data\n",
    "datapath = '../data/'\n",
    "# manier van laden dataset. Bijvoorbeeld read_parquet of read_csv\n",
    "DF_READ = pd.read_parquet\n",
    "\n",
    "## X & Y parameters\n",
    "# de kolommen die uit de X dataset moeten worden gehaald. Dat is in ieder geval de y en eventueel nog meer kolommen.\n",
    "# X_DROP_VALUES = ['wmoclienten', 'eenpersoonshuishoudens', 'huishoudenszonderkinderen', 'huishoudensmetkinderen']\n",
    "X_DROP_VALUES = ['wmoclienten', 'percentagewmoclienten', 'eenpersoonshuishoudens', 'huishoudenszonderkinderen', 'huishoudensmetkinderen']\n",
    "# de kolom die wordt gebruikt als y value\n",
    "Y_VALUE = ['wmoclientenper1000inwoners']\n",
    "# test size voor de train/test split\n",
    "TEST_SIZE = 0.3\n",
    "# random state voor de train/test split. Bijvoorbeeld random_state = 42 als vaste seed voor reproduceerbaarheid\n",
    "RANDOM_STATE = 42\n",
    "\n",
    "## Pipeline parameters\n",
    "# strategy en waarde om te vullen bij lege categorische kolommen\n",
    "NAN_VALUES_CAT_STRATEGY = 'constant'\n",
    "NAN_VALUES_CAT_VALUES = 'Missing'\n",
    "# waarden om in te vullen bij lege numerieke kolommen. Bijvoorbeeld mean of median\n",
    "NAN_VALUES_NUM_STRATEGY = 'mean'\n",
    "\n",
    "## Model parameters\n",
    "# manier van cross validate in de modellen. Bijvoorbeeld 10 of RepeatedKFold(n_splits=30, n_repeats=5, random_state=1)\n",
    "CROSS_VALIDATE = 10\n",
    "# manier van scoren in de modellen\n",
    "MODEL_SCORING = 'neg_mean_squared_error'\n",
    "\n",
    "## Scoring parameters\n",
    "# Deze kunnen we later toevoegen als we meerdere manieren van scoren hebben. Dus niet alleen maar de RSMLE"
   ]
  },
  {
   "cell_type": "markdown",
   "metadata": {},
   "source": [
    "# Functions"
   ]
  },
  {
   "cell_type": "code",
   "execution_count": null,
   "metadata": {},
   "outputs": [],
   "source": [
    "def get_latest_file(mypath='../data/', step='prep', goal='train'):\n",
    "    \"\"\"\n",
    "    Method to get the latest file to preprare\n",
    "    \n",
    "    :params str mypath: String with the (respectively) directory where the data can be found. Default = '../data'\n",
    "    :params bool train: Boolean to indicate if expected dataframe should be for preparing training data. Default = True\n",
    "    \n",
    "    return: pd.DataFrame\n",
    "    \"\"\"\n",
    "    # Get list with file\n",
    "    onlyfiles = sorted([f for f in listdir(mypath) if isfile(join(mypath, f))])\n",
    "    filename = [s for s in onlyfiles if f\"df_{step}_for_{goal}_WMO\" in s][-1]\n",
    "    # Get list with last files\n",
    "    df = pd.read_parquet(mypath+filename)\n",
    "    return df\n",
    "\n",
    "def single_scatter(df, x, y, ymin=None, ymax=None, xmin=None, xmax=None, show=True, save=False, save_as='img', **kwargs):\n",
    "    fig = px.scatter(df, x=x, y=y, **kwargs)\n",
    "    suffix_datetime = datetime.strftime(datetime.now(), format='%Y%m%d%H%M')\n",
    "    filename = f\"{suffix_datetime}_scatter_x_{x}_y_{y}\"\n",
    "    if (type(ymin) == int or type(ymin) == float) and (type(ymax) == int or type(ymax) == float):\n",
    "        fig.update_yaxes(range=[ymin, ymax], row=1, col=1)\n",
    "    if (type(xmin) == int or type(xmin) == float) and (type(xmax) == int or type(xmax) == float):\n",
    "        fig.update_xaxes(range=[xmin, xmax], row=1, col=1)\n",
    "    if save:\n",
    "        if save_as == 'html':\n",
    "            fig.write_html(f\"../img/{filename}.html\")\n",
    "        elif save_as == 'img':\n",
    "            fig.write_image(f\"../img/{filename}.jpeg\")    \n",
    "    if show:\n",
    "        fig.show()\n",
    "        \n",
    "def subplot_scatter(df, xlist, y, show=True, save=False, save_as='img', **kwargs):\n",
    "    fig = make_subplots(rows=1, cols=len(xlist),\n",
    "                       shared_yaxes=True)\n",
    "    \n",
    "    for i, x in enumerate(xlist):\n",
    "        go_scatter_kwargs = {k:v for k, v in kwargs.items() if k in list(go.Scatter.__init__.__code__.co_varnames)}\n",
    "        fig.add_trace(go.Scatter(x=df[x], y=df[y], mode=\"markers\",  name=x, **go_scatter_kwargs), row=1, col=i+1)\n",
    "        fig.update_xaxes(title_text=x, row=1, col=i+1)\n",
    "    \n",
    "    update_layout_kwargs = {k:v for k, v in kwargs.items() if k not in list(kwargs.keys())}\n",
    "    fig.update_layout(**update_layout_kwargs)\n",
    "    fig.update_yaxes(title_text=y, row=1, col=1)\n",
    "    \n",
    "    \n",
    "    if save:\n",
    "        if save_as == 'html':\n",
    "            fig.write_html(f\"../img/{filename}.html\")\n",
    "        elif save_as == 'img':\n",
    "            fig.write_image(f\"../img/{filename}.jpeg\")    \n",
    "    if show:\n",
    "        fig.show()"
   ]
  },
  {
   "cell_type": "markdown",
   "metadata": {},
   "source": [
    "# EDA"
   ]
  },
  {
   "cell_type": "markdown",
   "metadata": {},
   "source": [
    "## Load data"
   ]
  },
  {
   "cell_type": "code",
   "execution_count": null,
   "metadata": {},
   "outputs": [],
   "source": [
    "df = get_latest_file(mypath='../data/', step='prep')\n",
    "# df = pd.read_parquet('../data/df_prep_for_train_WMO_202103112150.parquet.gzip')\n",
    "# df = pd.read_parquet('../data/df_get_for_train_WMO_202103141516.parquet.gzip')\n",
    "# df_get_for_train_WMO_202103112139.parquet.gzip"
   ]
  },
  {
   "cell_type": "code",
   "execution_count": null,
   "metadata": {},
   "outputs": [],
   "source": [
    "df['periodencat'] = df['periodennum'].astype(str)\n",
    "df.sample(5)"
   ]
  },
  {
   "cell_type": "code",
   "execution_count": null,
   "metadata": {},
   "outputs": [],
   "source": [
    "df.describe().T"
   ]
  },
  {
   "cell_type": "markdown",
   "metadata": {},
   "source": [
    "## Play with Seaborn"
   ]
  },
  {
   "cell_type": "code",
   "execution_count": null,
   "metadata": {},
   "outputs": [],
   "source": [
    "y = 'percentagewmoclienten'\n",
    "x = 'aantalinwoners'\n",
    "sns.scatterplot(data=df, x=x, y=y, hue='perioden')"
   ]
  },
  {
   "cell_type": "markdown",
   "metadata": {},
   "source": [
    "## Play with plotly"
   ]
  },
  {
   "cell_type": "markdown",
   "metadata": {},
   "source": [
    "### Single scatterplot\n",
    "* [Plotly scatterplot](https://plotly.com/python/line-and-scatter/)\n",
    "* [Scatter params](https://plotly.com/python-api-reference/generated/plotly.graph_objects.Scatter.html)"
   ]
  },
  {
   "cell_type": "code",
   "execution_count": null,
   "metadata": {
    "scrolled": false
   },
   "outputs": [],
   "source": [
    "y = 'percentagewmoclienten'\n",
    "x = 'vrouwen'\n",
    "z = 'periodencat'\n",
    "single_scatter(df=df, x=x, y=y, color=z, opacity=0.4, size=None, hover_data=[], width=800, height=800, show=True)"
   ]
  },
  {
   "cell_type": "markdown",
   "metadata": {},
   "source": [
    "### Single scatterplot for loop for all"
   ]
  },
  {
   "cell_type": "code",
   "execution_count": null,
   "metadata": {},
   "outputs": [],
   "source": [
    "y = 'percentagewmoclienten'\n",
    "z = 'periodencat'\n",
    "for x in df.columns:\n",
    "    single_scatter(df=df, x=x, y=y, color=z, opacity=0.4, size=None, hover_data=[], width=800, height=800, show=False, save=True)"
   ]
  },
  {
   "cell_type": "markdown",
   "metadata": {},
   "source": [
    "### Subplot scatterplot\n",
    "[Plotly subplots](https://plotly.com/python/subplots/)"
   ]
  },
  {
   "cell_type": "code",
   "execution_count": null,
   "metadata": {},
   "outputs": [],
   "source": [
    "df['leeftijd_mix_sum'] = (7.5*df['k0tot15jaar'])+(20*df['k15tot25jaar'])+(35*df['k25tot45jaar'])+(55*df['k45tot65jaar'])+(75*df['k65jaarofouder'])\n",
    "df['leeftijd_mix_avg'] = df['leeftijd_mix_sum'] / df['aantalinwoners']"
   ]
  },
  {
   "cell_type": "code",
   "execution_count": null,
   "metadata": {
    "scrolled": false
   },
   "outputs": [],
   "source": [
    "# xlist=['k0tot15jaar', 'k15tot25jaar', 'k25tot45jaar', 'k45tot65jaar', 'k65jaarofouder']\n",
    "# xlist=['vrouwen', 'mannen']\n",
    "xlist = ['leeftijd_mix_sum', 'leeftijd_mix_avg']\n",
    "y = 'wmoclienten'\n",
    "subplot_scatter(df=df, xlist=xlist, y=y, opacity=0.5, height=500, width=500, title_text=\"Test\", show=True, save=False)"
   ]
  },
  {
   "cell_type": "markdown",
   "metadata": {},
   "source": [
    "### Histograms/density plots\n",
    "* [Plotly histograms ](https://plotly.com/python/histograms/)\n",
    "* [Plotly histrogram contour](https://plotly.com/python/2d-histogram-contour/)\n",
    "* [Plotly density plot](https://plotly.com/python/distplot/)"
   ]
  },
  {
   "cell_type": "code",
   "execution_count": null,
   "metadata": {},
   "outputs": [],
   "source": []
  },
  {
   "cell_type": "code",
   "execution_count": null,
   "metadata": {},
   "outputs": [],
   "source": [
    "fig = go.Figure(go.Histogram2dContour(\n",
    "        x = x,\n",
    "        y = y,\n",
    "        colorscale = 'Jet',\n",
    "        contours = dict(\n",
    "            showlabels = True,\n",
    "            labelfont = dict(\n",
    "                family = 'Raleway',\n",
    "                color = 'white'\n",
    "            )\n",
    "        ),\n",
    "        hoverlabel = dict(\n",
    "            bgcolor = 'white',\n",
    "            bordercolor = 'black',\n",
    "            font = dict(\n",
    "                family = 'Raleway',\n",
    "                color = 'black'\n",
    "            )\n",
    "        )\n",
    "\n",
    "))\n",
    "\n",
    "fig.show()"
   ]
  },
  {
   "cell_type": "code",
   "execution_count": null,
   "metadata": {},
   "outputs": [],
   "source": [
    "y = 'bevolkingsdichtheid'\n",
    "x = 'huishoudenszonderkinderen'\n",
    "z = 'percentagewmoclienten'\n",
    "\n",
    "fig = go.Figure(go.Histogram2dContour(\n",
    "        x = df[x],\n",
    "        y = df[y],\n",
    "        colorscale = 'Jet',\n",
    "        contours = dict(\n",
    "            showlabels = True,\n",
    "            labelfont = dict(\n",
    "                family = 'Raleway',\n",
    "                color = 'white'\n",
    "            )\n",
    "        ),\n",
    "        hoverlabel = dict(\n",
    "            bgcolor = 'white',\n",
    "            bordercolor = 'black',\n",
    "            font = dict(\n",
    "                family = 'Raleway',\n",
    "                color = 'black'\n",
    "            )\n",
    "        )\n",
    "\n",
    "))\n",
    "\n",
    "fig.show()"
   ]
  },
  {
   "cell_type": "code",
   "execution_count": null,
   "metadata": {},
   "outputs": [],
   "source": [
    "fig = go.Figure()\n",
    "fig.add_trace(go.Histogram2dContour(\n",
    "        x = df[x],\n",
    "        y = df[y],\n",
    "        colorscale = 'Blues',\n",
    "        reversescale = True,\n",
    "        xaxis = 'x',\n",
    "        yaxis = 'y'\n",
    "    ))\n",
    "fig.add_trace(go.Scatter(\n",
    "        x = df[x],\n",
    "        y = df[y],\n",
    "        xaxis = 'x',\n",
    "        yaxis = 'y',\n",
    "        mode = 'markers',\n",
    "        marker = dict(\n",
    "            color = 'rgba(0,0,0,0.3)',\n",
    "            size = 3\n",
    "        )\n",
    "    ))\n",
    "fig.add_trace(go.Histogram(\n",
    "        y = df[y],\n",
    "        xaxis = 'x2',\n",
    "        marker = dict(\n",
    "            color = 'rgba(0,0,0,1)'\n",
    "        )\n",
    "    ))\n",
    "fig.add_trace(go.Histogram(\n",
    "        x = df[x],\n",
    "        yaxis = 'y2',\n",
    "        marker = dict(\n",
    "            color = 'rgba(0,0,0,1)'\n",
    "        )\n",
    "    ))\n",
    "fig.update_layout(\n",
    "    autosize = False,\n",
    "    xaxis = dict(\n",
    "        zeroline = False,\n",
    "        domain = [0,0.85],\n",
    "        showgrid = False\n",
    "    ),\n",
    "    yaxis = dict(\n",
    "        zeroline = False,\n",
    "        domain = [0,0.85],\n",
    "        showgrid = False\n",
    "    ),\n",
    "    xaxis2 = dict(\n",
    "        zeroline = False,\n",
    "        domain = [0.85,1],\n",
    "        showgrid = False\n",
    "    ),\n",
    "    yaxis2 = dict(\n",
    "        zeroline = False,\n",
    "        domain = [0.85,1],\n",
    "        showgrid = False\n",
    "    ),\n",
    "    height = 600,\n",
    "    width = 600,\n",
    "    bargap = 0,\n",
    "    hovermode = 'closest',\n",
    "    showlegend = False\n",
    ")\n",
    "\n",
    "fig.show()"
   ]
  },
  {
   "cell_type": "markdown",
   "metadata": {},
   "source": [
    "### Sunburst\n",
    "[Plotly sunburst docs](https://plotly.com/python/sunburst-charts/)"
   ]
  },
  {
   "cell_type": "code",
   "execution_count": null,
   "metadata": {},
   "outputs": [],
   "source": [
    "import plotly.express as px\n",
    "import numpy as np\n",
    "df = px.data.gapminder().query(\"year == 2007\")\n",
    "fig = px.sunburst(df, path=['continent', 'country'], values='pop',\n",
    "                  color='lifeExp', hover_data=['iso_alpha'],\n",
    "                  color_continuous_scale='RdBu',\n",
    "                  color_continuous_midpoint=np.average(df['lifeExp'], weights=df['pop']))\n",
    "fig.show()"
   ]
  },
  {
   "cell_type": "markdown",
   "metadata": {},
   "source": [
    "## Play with finding most important features"
   ]
  },
  {
   "cell_type": "code",
   "execution_count": null,
   "metadata": {},
   "outputs": [],
   "source": [
    "df_copy = df.copy()"
   ]
  },
  {
   "cell_type": "code",
   "execution_count": null,
   "metadata": {},
   "outputs": [],
   "source": [
    "df_copy = df_copy.fillna(value=0.00001)"
   ]
  },
  {
   "cell_type": "code",
   "execution_count": null,
   "metadata": {
    "scrolled": true
   },
   "outputs": [],
   "source": [
    "df_copy.isnull().sum()"
   ]
  },
  {
   "cell_type": "code",
   "execution_count": null,
   "metadata": {},
   "outputs": [],
   "source": [
    "X = df_copy.copy().drop([ 'wmoclientenper1000inwoners', 'wmoclienten', 'perioden'], axis=1)\n",
    "y = df_copy.copy()['wmoclientenper1000inwoners']"
   ]
  },
  {
   "cell_type": "code",
   "execution_count": null,
   "metadata": {},
   "outputs": [],
   "source": [
    "X.where(df == '         .').dropna(axis=1)"
   ]
  },
  {
   "cell_type": "code",
   "execution_count": null,
   "metadata": {},
   "outputs": [],
   "source": [
    "df_copy.describe().T"
   ]
  },
  {
   "cell_type": "code",
   "execution_count": null,
   "metadata": {},
   "outputs": [],
   "source": [
    "from sklearn.linear_model import Lasso\n",
    "from sklearn.feature_selection import SelectFromModel\n",
    "# df_copy = df_copy.fillna(value=0)\n",
    "# X = df_copy.copy().drop([ 'wmoclientenper1000inwoners', 'wmoclienten', 'perioden', 'typemaatwerkarrangement', 'gemeentenaam', 'meestvoorkomendepostcode', 'periodennum'], axis=1)\n",
    "X = df_copy.copy().drop([ 'wmoclientenper1000inwoners', 'wmoclienten', 'perioden', 'periodennum', 'periodencat', 'eenpersoonshuishoudens', 'huishoudensmetkinderen'], axis=1)\n",
    "y = df_copy.copy()['wmoclientenper1000inwoners']\n",
    "selector = SelectFromModel(estimator=Lasso()).fit(X, y)\n",
    "\n",
    "df_features2 = pd.DataFrame(data=selector.estimator_.coef_, index=X.columns)\n",
    "df_features2['abs'] = df_features2[0].abs()\n",
    "df_features2.sort_values(by='abs', ascending=False).head(25)"
   ]
  },
  {
   "cell_type": "code",
   "execution_count": null,
   "metadata": {},
   "outputs": [],
   "source": [
    "X.shape"
   ]
  },
  {
   "cell_type": "code",
   "execution_count": null,
   "metadata": {},
   "outputs": [],
   "source": [
    "list(df_copy.columns)"
   ]
  },
  {
   "cell_type": "code",
   "execution_count": null,
   "metadata": {},
   "outputs": [],
   "source": [
    "df_copy['leeftijd_mix'] = (0.25*df_copy['k0tot15jaar'])+(0.5*df_copy['k15tot25jaar'])+df_copy['k25tot45jaar']+(1.5*df_copy['k45tot65jaar'])+(2*df_copy['k65jaarofouder'])"
   ]
  },
  {
   "cell_type": "code",
   "execution_count": null,
   "metadata": {},
   "outputs": [],
   "source": [
    "y = 'wmoclientenper1000inwoners'\n",
    "x = 'leeftijd_mix'\n",
    "plotly_scatter_xy(df=df_copy, col_x=x, col_y=y, annotation=\"\", save=False, show=True)"
   ]
  },
  {
   "cell_type": "code",
   "execution_count": null,
   "metadata": {},
   "outputs": [],
   "source": [
    "import plotly.express as px\n",
    "fig = px.scatter(x=df[x], y=df[y])\n",
    "fig.show()"
   ]
  },
  {
   "cell_type": "code",
   "execution_count": null,
   "metadata": {},
   "outputs": [],
   "source": [
    "fig.write_html(\"../img/file.html\")"
   ]
  },
  {
   "cell_type": "code",
   "execution_count": null,
   "metadata": {},
   "outputs": [],
   "source": [
    "fig.write_image(\"../img/file.jpeg\")"
   ]
  },
  {
   "cell_type": "code",
   "execution_count": null,
   "metadata": {},
   "outputs": [],
   "source": []
  }
 ],
 "metadata": {
  "kernelspec": {
   "display_name": "Python [conda env:ames-env]",
   "language": "python",
   "name": "conda-env-ames-env-py"
  },
  "language_info": {
   "codemirror_mode": {
    "name": "ipython",
    "version": 3
   },
   "file_extension": ".py",
   "mimetype": "text/x-python",
   "name": "python",
   "nbconvert_exporter": "python",
   "pygments_lexer": "ipython3",
   "version": "3.7.9"
  },
  "toc": {
   "base_numbering": 1,
   "nav_menu": {},
   "number_sections": true,
   "sideBar": true,
   "skip_h1_title": false,
   "title_cell": "Table of Contents",
   "title_sidebar": "Contents",
   "toc_cell": false,
   "toc_position": {},
   "toc_section_display": true,
   "toc_window_display": false
  }
 },
 "nbformat": 4,
 "nbformat_minor": 4
}
