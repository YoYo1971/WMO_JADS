{
 "cells": [
  {
   "cell_type": "markdown",
   "id": "abandoned-fifty",
   "metadata": {},
   "source": [
    "# Imports and settings"
   ]
  },
  {
   "cell_type": "code",
   "execution_count": null,
   "id": "appreciated-danish",
   "metadata": {},
   "outputs": [],
   "source": [
    "# Python packages\n",
    "import sys\n",
    "sys.path.append('../')\n",
    "from datetime import datetime\n",
    "import numpy as np\n",
    "import pandas as pd\n",
    "import pickle\n",
    "\n",
    "# Plotting libraries\n",
    "import matplotlib.pyplot as plt\n",
    "import seaborn as sns\n",
    "%matplotlib inline\n",
    "import altair as alt\n",
    "from sklearn import preprocessing\n",
    "import plotly.express as px\n",
    "from plotly.subplots import make_subplots\n",
    "import plotly.graph_objects as go\n",
    "\n",
    "# Custom functions\n",
    "import src.settings as settings\n",
    "from src.run_all.get_data import get_data, get_data_predict\n",
    "from src.run_all.preprocess import preprocess_data\n",
    "from src.run_all.train import train_and_fit_models\n",
    "from src.run_all.predict import predict_data\n",
    "from src.utilities.utilities import get_latest_file, list_filenames\n",
    "\n",
    "# Settings for displaying DataFrames\n",
    "pd.set_option('display.max_rows', 500) # number of rows to show\n",
    "pd.set_option('display.max_columns', 500) # number of columns to show\n",
    "pd.set_option('display.width', 1000) # column width\n",
    "# pd.set_option(\"display.precision\", 2) # precision of column\n",
    "# pd.set_option('display.float_format', lambda x: '{:.15f}'.format(x)) # float format"
   ]
  },
  {
   "cell_type": "code",
   "execution_count": null,
   "id": "thermal-honolulu",
   "metadata": {},
   "outputs": [],
   "source": [
    "PROCESS = 'train_and_predict'\n",
    "SOURCE = 'hardcoded'\n",
    "PERSONAL_NOTE = PROCESS+'_'+SOURCE\n",
    "PREDICT_PERIODS = [2020, 2021, 2022, 2023]\n",
    "SAVE_ALL = False\n",
    "\n",
    "\n",
    "settings.DATAPATH = '../data/'\n",
    "gemeentenamen = ['Berg en Dal', 'Beuningen', 'Druten', 'Heumen', 'Mook en Middelaar', 'Nijmegen', 'Wijchen']"
   ]
  },
  {
   "cell_type": "markdown",
   "id": "olive-youth",
   "metadata": {},
   "source": [
    "# Load data"
   ]
  },
  {
   "cell_type": "markdown",
   "id": "alternate-andorra",
   "metadata": {},
   "source": [
    "## Load source data (saved from CBS Statline)"
   ]
  },
  {
   "cell_type": "code",
   "execution_count": null,
   "id": "dental-cherry",
   "metadata": {},
   "outputs": [],
   "source": [
    "%%time\n",
    "if SOURCE == 'new':\n",
    "    # Get historical data (needed for training and predicting)\n",
    "    df_get_data = get_data(save_all=SAVE_ALL, personal_note=PERSONAL_NOTE)\n",
    "    if 'predict' in PROCESS:\n",
    "        # Get prognosed data\n",
    "        df_get_data_predict = get_data_predict(periods=PREDICT_PERIODS, \n",
    "                                               save_all=SAVE_ALL, \n",
    "                                               personal_note=PERSONAL_NOTE)\n",
    "    else:\n",
    "        df_get_data_predict = pd.DataFrame()\n",
    "elif SOURCE == 'hardcoded':\n",
    "    # Get historical data (needed for training and predicting)\n",
    "    filename = 'df_get_data_WMO_WIJK_HUISHOUDENS_BEVOLKING_HEFFING_202104241837_train_and_predict_new.parquet.gzip'\n",
    "    df_get_data = pd.read_parquet(settings.DATAPATH + filename)\n",
    "    if 'predict' in PROCESS:\n",
    "        # Get prognosed data\n",
    "        filename = 'df_get_data_predict_202104241838_train_and_predict_new.parquet.gzip'\n",
    "        df_get_data_predict = pd.read_parquet(settings.DATAPATH + filename)\n",
    "    else:\n",
    "        df_get_data_predict = pd.DataFrame()"
   ]
  },
  {
   "cell_type": "markdown",
   "id": "laden-lightning",
   "metadata": {},
   "source": [
    "## Load predicted data"
   ]
  },
  {
   "cell_type": "code",
   "execution_count": null,
   "id": "institutional-aluminum",
   "metadata": {},
   "outputs": [],
   "source": [
    "filename = 'df_predict_202104291100_train_and_predict_hardcoded.parquet.gzip'\n",
    "df_predict = pd.read_parquet(settings.DATAPATH + filename)"
   ]
  },
  {
   "cell_type": "code",
   "execution_count": null,
   "id": "promising-invite",
   "metadata": {},
   "outputs": [],
   "source": [
    "# df_predict[df_predict['prediction'].isnull()]"
   ]
  },
  {
   "cell_type": "markdown",
   "id": "fantastic-september",
   "metadata": {},
   "source": [
    "# Make one table with historical and predicted values"
   ]
  },
  {
   "cell_type": "code",
   "execution_count": null,
   "id": "capital-steps",
   "metadata": {},
   "outputs": [],
   "source": [
    "# Make a DataFrame with the historical data for the selected municipalities and the total of the Netherlands\n",
    "df_hist = df_get_data[df_get_data['gemeentenaam'].isin(gemeentenamen)][['wmoclientenper1000inwoners', 'gemeentenaam']].copy()\n",
    "df_hist_total = df_get_data[['wmoclientenper1000inwoners', 'gemeentenaam']].copy()\n",
    "df_hist_total = df_hist_total.reset_index()\n",
    "df_hist_total = df_hist_total.groupby('interval').mean()\n",
    "df_hist_total['gemeentenaam'] = 'Nederland'\n",
    "df_hist_total['codering_regio'] = 'NL'\n",
    "df_hist_total['wmoclientenper1000inwoners'] = df_hist_total['wmoclientenper1000inwoners'].round().astype(int)\n",
    "df_hist_total = df_hist_total.reset_index()\n",
    "df_hist_total = df_hist_total.set_index(['codering_regio', 'interval'])\n",
    "df_historical = pd.concat([df_hist, df_hist_total])\n",
    "df_historical"
   ]
  },
  {
   "cell_type": "code",
   "execution_count": null,
   "id": "placed-england",
   "metadata": {
    "scrolled": false
   },
   "outputs": [],
   "source": [
    "# Make a DataFrame with the predictions for the selected municipalities and the total of the Netherlands\n",
    "df_preds = df_predict[df_predict['gemeentenaam'].isin(gemeentenamen)].copy()\n",
    "df_preds = df_preds.rename(columns={'prediction':'wmoclientenper1000inwoners'})\n",
    "df_preds_total = df_predict.copy()\n",
    "df_preds_total = df_preds_total.rename(columns={'prediction':'wmoclientenper1000inwoners'})\n",
    "df_preds_total = df_preds_total.reset_index()\n",
    "df_preds_total = df_preds_total.groupby('interval').mean()\n",
    "df_preds_total['gemeentenaam'] = 'Nederland'\n",
    "df_preds_total['codering_regio'] = 'NL'\n",
    "df_preds_total['wmoclientenper1000inwoners'] = df_preds_total['wmoclientenper1000inwoners'].round().astype(int)\n",
    "df_preds_total = df_preds_total.reset_index()\n",
    "df_preds_total = df_preds_total.set_index(['codering_regio', 'interval'])\n",
    "df_predictions = pd.concat([df_preds, df_preds_total])\n",
    "df_predictions"
   ]
  },
  {
   "cell_type": "code",
   "execution_count": null,
   "id": "extra-individual",
   "metadata": {},
   "outputs": [],
   "source": [
    "list_coderings = ['GM0225', 'GM0268', 'GM0296', 'GM0944', 'GM1945']"
   ]
  },
  {
   "cell_type": "code",
   "execution_count": null,
   "id": "cosmetic-zimbabwe",
   "metadata": {},
   "outputs": [],
   "source": [
    "# Make the table in the right format for the report\n",
    "df_one_table = pd.concat([df_historical, df_predictions])\n",
    "df_one_table = df_one_table.reset_index()\n",
    "df_one_table = df_one_table.sort_values(['gemeentenaam', 'interval'])\n",
    "df_one_table = df_one_table.drop(['codering_regio'], axis=1)\n",
    "df_one_table['wmoclientenper1000inwoners'] = df_one_table['wmoclientenper1000inwoners'].astype(int)\n",
    "df_right_format = df_one_table.pivot(index='gemeentenaam', columns='interval', values='wmoclientenper1000inwoners')\n",
    "df_right_format = df_right_format.fillna(value='', inplace=False, downcast='infer')\n",
    "df_right_format"
   ]
  },
  {
   "cell_type": "code",
   "execution_count": null,
   "id": "grave-pittsburgh",
   "metadata": {},
   "outputs": [],
   "source": [
    "filename_table = 'result_table.csv'\n",
    "df_right_format.to_csv(settings.DATAPATH + filename_table)"
   ]
  },
  {
   "cell_type": "markdown",
   "id": "vietnamese-governor",
   "metadata": {},
   "source": [
    "# Try making a boxplot"
   ]
  },
  {
   "cell_type": "code",
   "execution_count": null,
   "id": "seeing-casting",
   "metadata": {},
   "outputs": [],
   "source": [
    "df_hist_total_plot = df_get_data[['wmoclientenper1000inwoners', 'gemeentenaam']].copy()\n",
    "df_preds_total_plot = df_predict.copy()\n",
    "df_preds_total_plot = df_preds_total_plot.rename(columns={'prediction':'wmoclientenper1000inwoners'})\n",
    "df_plot = pd.concat([df_hist_total_plot, df_preds_total_plot])\n",
    "df_plot = df_plot.reset_index()\n",
    "df_plot = df_plot.sort_values(['gemeentenaam', 'interval'])\n",
    "df_plot = df_plot.drop(['codering_regio'], axis=1)\n",
    "# df_plot['wmoclientenper1000inwoners'] = df_plot['wmoclientenper1000inwoners'].astype(int)"
   ]
  },
  {
   "cell_type": "code",
   "execution_count": null,
   "id": "imported-negative",
   "metadata": {},
   "outputs": [],
   "source": [
    "df_plot"
   ]
  },
  {
   "cell_type": "code",
   "execution_count": null,
   "id": "dated-density",
   "metadata": {},
   "outputs": [],
   "source": [
    "ax = sns.boxplot(y=df_plot['interval'], x=df_plot[\"wmoclientenper1000inwoners\"])"
   ]
  },
  {
   "cell_type": "markdown",
   "id": "announced-thriller",
   "metadata": {},
   "source": [
    "# Explaining the difference"
   ]
  },
  {
   "cell_type": "code",
   "execution_count": null,
   "id": "liked-sender",
   "metadata": {},
   "outputs": [],
   "source": [
    "file_preprocess_predict = 'df_preprocess_predict_202104291100_train_and_predict_hardcoded.parquet.gzip'\n",
    "df_preprocess_predict = pd.read_parquet(settings.DATAPATH + file_preprocess_predict)\n",
    "df_preprocess_predict = df_preprocess_predict.reset_index()\n",
    "\n",
    "file_preprocess = 'df_preprocessed_202104291100_train_and_predict_hardcoded.parquet.gzip'\n",
    "df_preprocess = pd.read_parquet(settings.DATAPATH + file_preprocess)\n",
    "df_preprocess = df_preprocess.reset_index()\n"
   ]
  },
  {
   "cell_type": "code",
   "execution_count": null,
   "id": "handy-cabinet",
   "metadata": {},
   "outputs": [],
   "source": [
    "list_features = ['codering_regio', 'interval',\n",
    "                                    'wmoclienten', 'wmoclientenper1000inwoners',\n",
    "                                   'relative_huishoudensmetkinderen',\n",
    "                                    'relative_poparbeidsongeschiktheidtotaal',\n",
    "                                    'relative_ongehuwd',\n",
    "                                    'relative_poptotaleoppervlakte',\n",
    "                                    'relative_huishoudenszonderkinderen',\n",
    "                                    'relative_ouder_in_eenouderhuishouden_vrouwen',\n",
    "                                    'relative_alleenstaande_mannen',\n",
    "                                    'relative_popafstandtothuisartsenpraktijk',\n",
    "                                    'relative_popbevolkingsdichtheid']"
   ]
  },
  {
   "cell_type": "code",
   "execution_count": null,
   "id": "amino-james",
   "metadata": {},
   "outputs": [],
   "source": [
    "df_hist_all = df_get_data.reset_index().copy()\n",
    "df_hist_all[(df_hist_all['codering_regio'].isin(list_coderings))&(df_hist_all['interval']=='2019')]"
   ]
  },
  {
   "cell_type": "code",
   "execution_count": null,
   "id": "alpha-input",
   "metadata": {},
   "outputs": [],
   "source": [
    "df_preprocess_predict[df_preprocess_predict['codering_regio'].isin(list_coderings)]"
   ]
  },
  {
   "cell_type": "code",
   "execution_count": null,
   "id": "psychological-inquiry",
   "metadata": {},
   "outputs": [],
   "source": [
    "df_preprocess[df_preprocess['codering_regio'].isin(list_coderings)]"
   ]
  },
  {
   "cell_type": "code",
   "execution_count": null,
   "id": "vocational-stone",
   "metadata": {},
   "outputs": [],
   "source": []
  },
  {
   "cell_type": "code",
   "execution_count": null,
   "id": "competent-reminder",
   "metadata": {},
   "outputs": [],
   "source": []
  }
 ],
 "metadata": {
  "kernelspec": {
   "display_name": "Python [conda env:jads-env] *",
   "language": "python",
   "name": "conda-env-jads-env-py"
  },
  "language_info": {
   "codemirror_mode": {
    "name": "ipython",
    "version": 3
   },
   "file_extension": ".py",
   "mimetype": "text/x-python",
   "name": "python",
   "nbconvert_exporter": "python",
   "pygments_lexer": "ipython3",
   "version": "3.8.8"
  }
 },
 "nbformat": 4,
 "nbformat_minor": 5
}
