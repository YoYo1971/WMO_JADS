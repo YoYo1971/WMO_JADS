{
 "cells": [
  {
   "cell_type": "code",
   "execution_count": null,
   "id": "mobile-astronomy",
   "metadata": {},
   "outputs": [],
   "source": [
    "# Python packages\n",
    "import sys\n",
    "sys.path.append('../')\n",
    "from datetime import datetime\n",
    "import numpy as np\n",
    "import pandas as pd\n",
    "import pickle\n",
    "\n",
    "from sklearn.metrics import mean_squared_error\n",
    "from sklearn.model_selection import train_test_split, cross_val_score, RepeatedKFold, GridSearchCV, cross_validate, KFold, cross_val_score\n",
    "from sklearn.linear_model import LogisticRegression, LinearRegression, Ridge, Lasso, LassoCV\n",
    "from sklearn.preprocessing import OneHotEncoder, StandardScaler\n",
    "from sklearn.compose import ColumnTransformer, make_column_transformer\n",
    "from sklearn.pipeline import Pipeline, make_pipeline\n",
    "from sklearn.svm import SVR\n",
    "from sklearn.impute import SimpleImputer\n",
    "from sklearn.neighbors import KNeighborsRegressor\n",
    "from sklearn.decomposition import PCA\n",
    "from sklearn.ensemble import RandomForestRegressor\n",
    "\n",
    "from xgboost import XGBRegressor, XGBClassifier\n",
    "\n",
    "# Custom functions\n",
    "import src.settings as settings\n",
    "import src.mapper_cols as mapper_cols\n",
    "from src.run_all.main_get_data import get_data\n",
    "from src.run_all.main_preprocess import preprocess_data\n",
    "from src.utilities.utilities import get_latest_file, list_filenames\n",
    "\n",
    "# instellingen voor panda weergave aanpassen\n",
    "pd.set_option('display.max_rows', 500) # alle rijen tonen\n",
    "pd.set_option('display.max_columns', 500) # alle kolommen tonen\n",
    "pd.set_option('display.width', 1000) # kolombreedte\n",
    "pd.set_option(\"display.precision\", 2)     # precisie van de kolommen aanpassen\n",
    "pd.set_option('display.float_format', lambda x: '{:.15f}'.format(x)) # floats output tot 15 decimalen"
   ]
  },
  {
   "cell_type": "code",
   "execution_count": null,
   "id": "owned-hanging",
   "metadata": {},
   "outputs": [],
   "source": [
    "datapath = '../data/'\n",
    "filename = 'df_get_data_WMO_WIJK_HUISHOUDENS_BEVOLKING_HEFFING_202104042111.parquet.gzip'\n",
    "df_get_data_WMO = pd.read_parquet(datapath + filename)"
   ]
  },
  {
   "cell_type": "code",
   "execution_count": null,
   "id": "tender-invasion",
   "metadata": {},
   "outputs": [],
   "source": [
    "df_get_data_WMO.k40huishoudensmetlaagsteinkomen"
   ]
  },
  {
   "cell_type": "code",
   "execution_count": null,
   "id": "fuzzy-livestock",
   "metadata": {},
   "outputs": [],
   "source": [
    "df_get_data_WMO_cop = df_get_data_WMO.reset_index().copy()"
   ]
  },
  {
   "cell_type": "code",
   "execution_count": null,
   "id": "intimate-forty",
   "metadata": {},
   "outputs": [],
   "source": [
    "df_get_data_WMO_cop[df_get_data_WMO_cop['interval']=='2019']['k40huishoudensmetlaagsteinkomen']"
   ]
  },
  {
   "cell_type": "code",
   "execution_count": null,
   "id": "tight-coordinate",
   "metadata": {},
   "outputs": [],
   "source": []
  },
  {
   "cell_type": "code",
   "execution_count": null,
   "id": "numerous-local",
   "metadata": {},
   "outputs": [],
   "source": []
  }
 ],
 "metadata": {
  "kernelspec": {
   "display_name": "Python [conda env:jads-env] *",
   "language": "python",
   "name": "conda-env-jads-env-py"
  },
  "language_info": {
   "codemirror_mode": {
    "name": "ipython",
    "version": 3
   },
   "file_extension": ".py",
   "mimetype": "text/x-python",
   "name": "python",
   "nbconvert_exporter": "python",
   "pygments_lexer": "ipython3",
   "version": "3.8.8"
  }
 },
 "nbformat": 4,
 "nbformat_minor": 5
}
