{
 "cells": [
  {
   "cell_type": "code",
   "execution_count": 50,
   "metadata": {},
   "outputs": [],
   "source": [
    "#imports \n",
    "import os\n",
    "import glob\n",
    "import pandas as pd\n",
    "import seaborn as sns\n",
    "import matplotlib.pyplot as plt\n",
    "\n",
    "# combineren van de verschillende best model properties csv's naar één dataframe\n",
    "datapath = \"/Users/nickneppelenbroek/Jupyter Notebook/Data/JADS/WMO_JADS/data/best_model_properties_csv\"\n",
    "os.chdir(datapath)"
   ]
  },
  {
   "cell_type": "code",
   "execution_count": 51,
   "metadata": {
    "scrolled": true
   },
   "outputs": [
    {
     "data": {
      "text/html": [
       "<div>\n",
       "<style scoped>\n",
       "    .dataframe tbody tr th:only-of-type {\n",
       "        vertical-align: middle;\n",
       "    }\n",
       "\n",
       "    .dataframe tbody tr th {\n",
       "        vertical-align: top;\n",
       "    }\n",
       "\n",
       "    .dataframe thead th {\n",
       "        text-align: right;\n",
       "    }\n",
       "</style>\n",
       "<table border=\"1\" class=\"dataframe\">\n",
       "  <thead>\n",
       "    <tr style=\"text-align: right;\">\n",
       "      <th></th>\n",
       "      <th>Model</th>\n",
       "      <th>Gridsearch_Params</th>\n",
       "      <th>Train_RMSE</th>\n",
       "      <th>Test_RMSE</th>\n",
       "      <th>Number_of_features</th>\n",
       "      <th>Y_value</th>\n",
       "      <th>Input_filename</th>\n",
       "      <th>Output_filename</th>\n",
       "    </tr>\n",
       "  </thead>\n",
       "  <tbody>\n",
       "    <tr>\n",
       "      <th>0</th>\n",
       "      <td>Ridge</td>\n",
       "      <td>alpha=1</td>\n",
       "      <td>0.000876</td>\n",
       "      <td>0.000875</td>\n",
       "      <td>140</td>\n",
       "      <td>wmoclientenper1000inwoners</td>\n",
       "      <td>Hier komt uiteindelijk de input_filename_locatie</td>\n",
       "      <td>../../data/best_model_202104021328.pickle</td>\n",
       "    </tr>\n",
       "    <tr>\n",
       "      <th>0</th>\n",
       "      <td>Ridge</td>\n",
       "      <td>alpha=1</td>\n",
       "      <td>0.000876</td>\n",
       "      <td>0.000875</td>\n",
       "      <td>140</td>\n",
       "      <td>wmoclientenper1000inwoners</td>\n",
       "      <td>Hier komt uiteindelijk de input_filename_locatie</td>\n",
       "      <td>../../data/best_model_202104021400.pickle</td>\n",
       "    </tr>\n",
       "    <tr>\n",
       "      <th>0</th>\n",
       "      <td>Ridge</td>\n",
       "      <td>alpha=1</td>\n",
       "      <td>0.000876</td>\n",
       "      <td>0.000875</td>\n",
       "      <td>140</td>\n",
       "      <td>wmoclientenper1000inwoners</td>\n",
       "      <td>Hier komt uiteindelijk de input_filename_locatie</td>\n",
       "      <td>../../data/best_model_202104021445.pickle</td>\n",
       "    </tr>\n",
       "  </tbody>\n",
       "</table>\n",
       "</div>"
      ],
      "text/plain": [
       "   Model Gridsearch_Params  Train_RMSE  Test_RMSE  Number_of_features  \\\n",
       "0  Ridge           alpha=1    0.000876   0.000875                 140   \n",
       "0  Ridge           alpha=1    0.000876   0.000875                 140   \n",
       "0  Ridge           alpha=1    0.000876   0.000875                 140   \n",
       "\n",
       "                      Y_value  \\\n",
       "0  wmoclientenper1000inwoners   \n",
       "0  wmoclientenper1000inwoners   \n",
       "0  wmoclientenper1000inwoners   \n",
       "\n",
       "                                     Input_filename  \\\n",
       "0  Hier komt uiteindelijk de input_filename_locatie   \n",
       "0  Hier komt uiteindelijk de input_filename_locatie   \n",
       "0  Hier komt uiteindelijk de input_filename_locatie   \n",
       "\n",
       "                             Output_filename  \n",
       "0  ../../data/best_model_202104021328.pickle  \n",
       "0  ../../data/best_model_202104021400.pickle  \n",
       "0  ../../data/best_model_202104021445.pickle  "
      ]
     },
     "execution_count": 51,
     "metadata": {},
     "output_type": "execute_result"
    }
   ],
   "source": [
    "# combineren van de verschillende best model properties csv's naar één dataframe\n",
    "all_filenames = [i for i in glob.glob('*.{}'.format('csv'))]\n",
    "\n",
    "#combine all files in the list\n",
    "combined_df = pd.concat([pd.read_csv(f) for f in all_filenames ])\n",
    "combined_df"
   ]
  },
  {
   "cell_type": "code",
   "execution_count": 53,
   "metadata": {},
   "outputs": [
    {
     "data": {
      "text/plain": [
       "<seaborn.axisgrid.FacetGrid at 0x7fe72a62e460>"
      ]
     },
     "execution_count": 53,
     "metadata": {},
     "output_type": "execute_result"
    },
    {
     "data": {
      "image/png": "[encoded data removed]",
      "text/plain": [
       "<Figure size 477x360 with 1 Axes>"
      ]
     },
     "metadata": {
      "needs_background": "light"
     },
     "output_type": "display_data"
    }
   ],
   "source": [
    "# cmap = sns.cubehelix_palette(rot=-.2, as_cmap=True)\n",
    "sns.relplot(data=combined_df, x=\"Train_RMSE\", y=\"Test_RMSE\", hue=\"Model\", size=\"Number_of_features\", sizes=(10, 200),\n",
    ")"
   ]
  }
 ],
 "metadata": {
  "kernelspec": {
   "display_name": "Python 3",
   "language": "python",
   "name": "python3"
  },
  "language_info": {
   "codemirror_mode": {
    "name": "ipython",
    "version": 3
   },
   "file_extension": ".py",
   "mimetype": "text/x-python",
   "name": "python",
   "nbconvert_exporter": "python",
   "pygments_lexer": "ipython3",
   "version": "3.8.5"
  }
 },
 "nbformat": 4,
 "nbformat_minor": 4
}
