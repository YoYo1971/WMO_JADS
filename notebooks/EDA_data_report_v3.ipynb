{
 "cells": [
  {
   "cell_type": "markdown",
   "metadata": {},
   "source": [
    "# Imports"
   ]
  },
  {
   "cell_type": "code",
   "execution_count": null,
   "metadata": {},
   "outputs": [],
   "source": [
    "from os import listdir\n",
    "from os.path import isfile, join\n",
    "import pandas as pd\n",
    "import cbsodata\n",
    "from datetime import datetime\n",
    "\n",
    "import matplotlib.pyplot as plt\n",
    "import seaborn as sns\n",
    "%matplotlib inline\n",
    "import altair as alt\n",
    "from sklearn import preprocessing\n",
    "import plotly.express as px\n",
    "from plotly.subplots import make_subplots\n",
    "import plotly.graph_objects as go\n",
    "\n",
    "pd.set_option('display.max_rows', 500)\n",
    "pd.set_option('display.max_columns', 500)\n",
    "pd.set_option('display.width', 1000)"
   ]
  },
  {
   "cell_type": "markdown",
   "metadata": {},
   "source": [
    "# Settings"
   ]
  },
  {
   "cell_type": "markdown",
   "metadata": {},
   "source": [
    "# Functions"
   ]
  },
  {
   "cell_type": "code",
   "execution_count": null,
   "metadata": {},
   "outputs": [],
   "source": [
    "def single_scatter(df, x, y, ymin=None, ymax=None, xmin=None, xmax=None, show=True, save=False, save_as='img', **kwargs):\n",
    "    fig = px.scatter(df, x=x, y=y, **kwargs)\n",
    "    suffix_datetime = datetime.strftime(datetime.now(), format='%Y%m%d%H%M')\n",
    "    filename = f\"{suffix_datetime}_scatter_x_{x}_y_{y}\"\n",
    "    if (type(ymin) == int or type(ymin) == float) and (type(ymax) == int or type(ymax) == float):\n",
    "        fig.update_yaxes(range=[ymin, ymax], row=1, col=1)\n",
    "    if (type(xmin) == int or type(xmin) == float) and (type(xmax) == int or type(xmax) == float):\n",
    "        fig.update_xaxes(range=[xmin, xmax], row=1, col=1)\n",
    "    if save:\n",
    "        if save_as == 'html':\n",
    "            fig.write_html(f\"../img/{filename}.html\")\n",
    "        elif save_as == 'img':\n",
    "            fig.write_image(f\"../img/{filename}.jpeg\")    \n",
    "    if show:\n",
    "        fig.show()\n",
    "        \n",
    "def subplot_scatter(df, xlist, y, show=True, save=False, save_as='img', **kwargs):\n",
    "    fig = make_subplots(rows=1, cols=len(xlist),\n",
    "                       shared_yaxes=True)\n",
    "    \n",
    "    for i, x in enumerate(xlist):\n",
    "        go_scatter_kwargs = {k:v for k, v in kwargs.items() if k in list(go.Scatter.__init__.__code__.co_varnames)}\n",
    "        fig.add_trace(go.Scatter(x=df[x], y=df[y], mode=\"markers\",  name=x, **go_scatter_kwargs), row=1, col=i+1)\n",
    "        fig.update_xaxes(title_text=x, row=1, col=i+1)\n",
    "    \n",
    "    update_layout_kwargs = {k:v for k, v in kwargs.items() if k not in list(kwargs.keys())}\n",
    "    fig.update_layout(**update_layout_kwargs)\n",
    "    fig.update_yaxes(title_text=y, row=1, col=1)\n",
    "    \n",
    "    \n",
    "    if save:\n",
    "        if save_as == 'html':\n",
    "            fig.write_html(f\"../img/{filename}.html\")\n",
    "        elif save_as == 'img':\n",
    "            fig.write_image(f\"../img/{filename}.jpeg\")    \n",
    "    if show:\n",
    "        fig.show()"
   ]
  },
  {
   "cell_type": "markdown",
   "metadata": {},
   "source": [
    "# EDA"
   ]
  },
  {
   "cell_type": "markdown",
   "metadata": {},
   "source": [
    "Load data"
   ]
  },
  {
   "cell_type": "code",
   "execution_count": null,
   "metadata": {},
   "outputs": [],
   "source": [
    "df = pd.read_parquet('../data/df_WMO_WIJK_HOUSEHOLDS_POP_LEVY_absolute.parquet.gzip')"
   ]
  },
  {
   "cell_type": "markdown",
   "metadata": {},
   "source": [
    "Omvang dataset"
   ]
  },
  {
   "cell_type": "code",
   "execution_count": null,
   "metadata": {},
   "outputs": [],
   "source": [
    "df.shape"
   ]
  },
  {
   "cell_type": "markdown",
   "metadata": {},
   "source": [
    "Check kolommen"
   ]
  },
  {
   "cell_type": "code",
   "execution_count": null,
   "metadata": {},
   "outputs": [],
   "source": [
    "list(df.columns)"
   ]
  },
  {
   "cell_type": "markdown",
   "metadata": {},
   "source": [
    "Tel aantal unieke gemeenten"
   ]
  },
  {
   "cell_type": "code",
   "execution_count": null,
   "metadata": {},
   "outputs": [],
   "source": [
    "df.reset_index().codering_regio.nunique()"
   ]
  },
  {
   "cell_type": "markdown",
   "metadata": {},
   "source": [
    "Uitzoeken hoeveel gemeenten er alle jaren info hebben"
   ]
  },
  {
   "cell_type": "code",
   "execution_count": null,
   "metadata": {},
   "outputs": [],
   "source": [
    "df_gem = df.reset_index()[['codering_regio', 'interval']]"
   ]
  },
  {
   "cell_type": "code",
   "execution_count": null,
   "metadata": {},
   "outputs": [],
   "source": [
    "df_counts = pd.DataFrame(df_gem.codering_regio.value_counts())\n",
    "df_counts.head()"
   ]
  },
  {
   "cell_type": "code",
   "execution_count": null,
   "metadata": {
    "scrolled": false
   },
   "outputs": [],
   "source": [
    "df_counts.codering_regio.value_counts()"
   ]
  },
  {
   "cell_type": "markdown",
   "metadata": {},
   "source": [
    "Aantal string kolommen"
   ]
  },
  {
   "cell_type": "code",
   "execution_count": null,
   "metadata": {},
   "outputs": [],
   "source": [
    "list_exclude = ['perioden', 'popcodea', 'popcodeb', 'popcodec', 'popcoded', 'popcodee', 'popcodef', 'popcodeg', 'popcodeh', \n",
    "                'popcodei', 'popcodej', 'popcodek', 'popcodel', 'popcodem', 'popcoden', 'popcodeo', 'popcodep', 'popcodeq', \n",
    "                'popcoder', 'popnaama', 'popnaamb', 'popnaamc', 'popnaamd', 'popnaame', 'popnaamf', 'popnaamg', \n",
    "                'popnaamh', 'popnaami', 'popnaamj', 'popnaamk', 'popnaaml', 'popnaamm', 'popnaamn', 'popnaamo',\n",
    "                'popnaamp', 'popnaamq', 'popnaamr', 'popkoppelvariabeleregiocode', 'typemaatwerkarrangement', \n",
    "                'gemeentenaam', 'meestvoorkomendepostcode']\n",
    "len(list_exclude)"
   ]
  },
  {
   "cell_type": "markdown",
   "metadata": {},
   "source": [
    "Aantal missende waarden numerieke kolommen bepalen"
   ]
  },
  {
   "cell_type": "code",
   "execution_count": null,
   "metadata": {
    "scrolled": true
   },
   "outputs": [],
   "source": [
    "# # search certain value\n",
    "# df.drop(list_exclude, axis=1)[df.drop(list_exclude, axis=1) == \"JZ01      \"].sum()>1"
   ]
  },
  {
   "cell_type": "code",
   "execution_count": null,
   "metadata": {},
   "outputs": [],
   "source": [
    "# df.loc[:, df.columns != 'perioden'].columns\n",
    "for col in df.drop(list_exclude, axis=1).columns:\n",
    "#     print(col)\n",
    "    df[col] = pd.to_numeric(df[col])"
   ]
  },
  {
   "cell_type": "code",
   "execution_count": null,
   "metadata": {},
   "outputs": [],
   "source": [
    "s_num_missing = df.drop(list_exclude, axis=1).isnull().sum(axis=0)[df.drop(list_exclude, axis=1).isnull().sum(axis=0)>0]\n",
    "s_perc_missing = s_num_missing / len(df)\n",
    "df_missing = pd.DataFrame({'num_missing': s_num_missing,'perc_missing': s_perc_missing})\n",
    "df_missing.sort_values('perc_missing', ascending=False)"
   ]
  },
  {
   "cell_type": "markdown",
   "metadata": {},
   "source": [
    "Aantal kolommen met missing value > 25%"
   ]
  },
  {
   "cell_type": "code",
   "execution_count": null,
   "metadata": {},
   "outputs": [],
   "source": [
    "len(df_missing[df_missing['perc_missing']>0.25])"
   ]
  },
  {
   "cell_type": "markdown",
   "metadata": {},
   "source": [
    "Aantal missing values voor target variabele"
   ]
  },
  {
   "cell_type": "code",
   "execution_count": null,
   "metadata": {},
   "outputs": [],
   "source": [
    "df_missing.loc['wmoclienten']"
   ]
  },
  {
   "cell_type": "code",
   "execution_count": null,
   "metadata": {},
   "outputs": [],
   "source": [
    "df_missing.loc['wmoclientenper1000inwoners']"
   ]
  },
  {
   "cell_type": "markdown",
   "metadata": {},
   "source": [
    "# Verkennen targetvariabele"
   ]
  },
  {
   "cell_type": "markdown",
   "metadata": {},
   "source": [
    "_Histograms/density plots_\n",
    "* [Plotly histograms ](https://plotly.com/python/histograms/)\n",
    "* [Plotly histrogram contour](https://plotly.com/python/2d-histogram-contour/)\n",
    "* [Plotly density plot](https://plotly.com/python/distplot/)"
   ]
  },
  {
   "cell_type": "code",
   "execution_count": null,
   "metadata": {},
   "outputs": [],
   "source": [
    "## Mocht je het tof vinden, kun je ook kijken of je een mooie visualisatie in dezelfde stijl kunt krijgen \n",
    "## voor de targetvariabele"
   ]
  },
  {
   "cell_type": "code",
   "execution_count": null,
   "metadata": {},
   "outputs": [],
   "source": [
    "df['wmoclientenper1000inwoners'].hist()"
   ]
  },
  {
   "cell_type": "code",
   "execution_count": null,
   "metadata": {},
   "outputs": [],
   "source": []
  },
  {
   "cell_type": "markdown",
   "metadata": {},
   "source": [
    "# Correlatie bepalen\n",
    "\n",
    "### HIER GRAAG CORRELATIEMATRIX INVOEGEN NICK"
   ]
  },
  {
   "cell_type": "code",
   "execution_count": null,
   "metadata": {},
   "outputs": [],
   "source": []
  },
  {
   "cell_type": "code",
   "execution_count": null,
   "metadata": {},
   "outputs": [],
   "source": []
  },
  {
   "cell_type": "markdown",
   "metadata": {},
   "source": [
    "# Verdieping middels scatterplots"
   ]
  },
  {
   "cell_type": "markdown",
   "metadata": {},
   "source": [
    "_Single scatterplot_\n",
    "* [Plotly scatterplot](https://plotly.com/python/line-and-scatter/)\n",
    "* [Scatter params](https://plotly.com/python-api-reference/generated/plotly.graph_objects.Scatter.html)"
   ]
  },
  {
   "cell_type": "code",
   "execution_count": null,
   "metadata": {
    "scrolled": false
   },
   "outputs": [],
   "source": [
    "y = 'wmoclientenper1000inwoners'\n",
    "x = 'vrouwen'\n",
    "z = 'perioden'\n",
    "single_scatter(df=df, x=x, y=y, color=z, opacity=0.4, size=None, hover_data=[], width=800, height=800, show=True)"
   ]
  },
  {
   "cell_type": "markdown",
   "metadata": {},
   "source": [
    "_Single scatterplot for loop for all_"
   ]
  },
  {
   "cell_type": "code",
   "execution_count": null,
   "metadata": {},
   "outputs": [],
   "source": [
    "list_cols_with_interesting_corr = []"
   ]
  },
  {
   "cell_type": "code",
   "execution_count": null,
   "metadata": {},
   "outputs": [],
   "source": [
    "y = 'wmoclientenper1000inwoners'\n",
    "z = 'perioden'\n",
    "for x in list_cols_with_interesting_corr:\n",
    "    single_scatter(df=df, x=x, y=y, color=z, opacity=0.4, size=None, hover_data=[], width=800, height=800, show=False, save=True)"
   ]
  },
  {
   "cell_type": "code",
   "execution_count": null,
   "metadata": {},
   "outputs": [],
   "source": []
  },
  {
   "cell_type": "markdown",
   "metadata": {},
   "source": [
    "# Appendix: Play with plotly"
   ]
  },
  {
   "cell_type": "markdown",
   "metadata": {},
   "source": [
    "### Subplot scatterplot\n",
    "[Plotly subplots](https://plotly.com/python/subplots/)"
   ]
  },
  {
   "cell_type": "code",
   "execution_count": null,
   "metadata": {},
   "outputs": [],
   "source": [
    "df['leeftijd_mix_sum'] = (7.5*df['k0tot15jaar'])+(20*df['k15tot25jaar'])+(35*df['k25tot45jaar'])+(55*df['k45tot65jaar'])+(75*df['k65jaarofouder'])\n",
    "df['leeftijd_mix_avg'] = df['leeftijd_mix_sum'] / df['aantalinwoners']"
   ]
  },
  {
   "cell_type": "code",
   "execution_count": null,
   "metadata": {
    "scrolled": false
   },
   "outputs": [],
   "source": [
    "# xlist=['k0tot15jaar', 'k15tot25jaar', 'k25tot45jaar', 'k45tot65jaar', 'k65jaarofouder']\n",
    "# xlist=['vrouwen', 'mannen']\n",
    "xlist = ['leeftijd_mix_sum', 'leeftijd_mix_avg']\n",
    "y = 'wmoclienten'\n",
    "subplot_scatter(df=df, xlist=xlist, y=y, opacity=0.5, height=500, width=500, title_text=\"Test\", show=True, save=False)"
   ]
  },
  {
   "cell_type": "code",
   "execution_count": null,
   "metadata": {},
   "outputs": [],
   "source": []
  },
  {
   "cell_type": "code",
   "execution_count": null,
   "metadata": {},
   "outputs": [],
   "source": []
  }
 ],
 "metadata": {
  "kernelspec": {
   "display_name": "Python [conda env:jads-env] *",
   "language": "python",
   "name": "conda-env-jads-env-py"
  },
  "language_info": {
   "codemirror_mode": {
    "name": "ipython",
    "version": 3
   },
   "file_extension": ".py",
   "mimetype": "text/x-python",
   "name": "python",
   "nbconvert_exporter": "python",
   "pygments_lexer": "ipython3",
   "version": "3.8.8"
  },
  "toc": {
   "base_numbering": 1,
   "nav_menu": {},
   "number_sections": true,
   "sideBar": true,
   "skip_h1_title": false,
   "title_cell": "Table of Contents",
   "title_sidebar": "Contents",
   "toc_cell": false,
   "toc_position": {},
   "toc_section_display": true,
   "toc_window_display": false
  }
 },
 "nbformat": 4,
 "nbformat_minor": 4
}
