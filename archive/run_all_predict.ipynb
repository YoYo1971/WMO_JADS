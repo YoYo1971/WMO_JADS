{
 "cells": [
  {
   "cell_type": "markdown",
   "metadata": {},
   "source": [
    "# Imports & settings"
   ]
  },
  {
   "cell_type": "code",
   "execution_count": null,
   "metadata": {},
   "outputs": [],
   "source": [
    "# Python packages\n",
    "import sys\n",
    "sys.path.append('../../')\n",
    "from datetime import datetime\n",
    "import numpy as np\n",
    "import pandas as pd\n",
    "import pickle\n",
    "\n",
    "# Custom functions\n",
    "import src.settings as settings\n",
    "from src.run_all.get_data import get_data, get_data_predict\n",
    "from src.run_all.preprocess import preprocess_data\n",
    "from src.run_all.train import train_and_fit_models\n",
    "from src.run_all.predict import predict_data\n",
    "from src.utilities.utilities import get_latest_file, list_filenames\n",
    "\n",
    "# Settings for displaying DataFrames\n",
    "pd.set_option('display.max_rows', 500) # number of rows to show\n",
    "pd.set_option('display.max_columns', 500) # number of columns to show\n",
    "pd.set_option('display.width', 1000) # column width\n",
    "pd.set_option(\"display.precision\", 2) # precision of column\n",
    "pd.set_option('display.float_format', lambda x: '{:.15f}'.format(x)) # float format"
   ]
  },
  {
   "cell_type": "markdown",
   "metadata": {},
   "source": [
    "## Get historical data (same as train)"
   ]
  },
  {
   "cell_type": "code",
   "execution_count": null,
   "metadata": {
    "scrolled": false
   },
   "outputs": [],
   "source": [
    "%%time \n",
    "# ## CREATE NEW DATASET\n",
    "# df_get_data = get_data(save_all=True, personal_note='final')\n",
    "\n",
    "# ## HARDCODED\n",
    "filename = 'df_get_data_WMO_WIJK_HUISHOUDENS_BEVOLKING_HEFFING_202104231248_final.parquet.gzip'\n",
    "df_get_data = pd.read_parquet(settings.DATAPATH + filename)\n",
    "\n",
    "# ## SELECT LAST FILE\n",
    "# df_get_data = get_latest_file(filename_str_contains='df_get_data_WMO', \n",
    "#                                   datapath=DATAPATH, filetype='parquet')\n",
    "\n",
    "print(f\"The shape of the dataframe from step 'Get Data': {df_get_data.shape}\")\n",
    "df_get_data.sample(5)"
   ]
  },
  {
   "cell_type": "markdown",
   "metadata": {},
   "source": [
    "## Get prognoses data"
   ]
  },
  {
   "cell_type": "code",
   "execution_count": null,
   "metadata": {
    "scrolled": true
   },
   "outputs": [],
   "source": [
    "%%time\n",
    "# ## CREATE NEW DATASET\n",
    "# df_get_data_predict = get_data_predict(save_all=True, personal_note=\"final\")\n",
    "\n",
    "# ## HARDCODED\n",
    "filename = 'df_get_data_predict_202104231239_final.parquet.gzip'\n",
    "df_get_data_predict = pd.read_parquet(settings.DATAPATH + filename)\n",
    "\n",
    "# # ## SELECT LAST FILE\n",
    "# df_get_data_predict = get_latest_file(filename_str_contains='df_get_data_predict', \n",
    "#                                       datapath=DATAPATH, filetype='parquet')\n",
    "\n",
    "print(f\"The shape of the dataframe from step 'Get Data Predict': {df_get_data_predict.shape}\")\n",
    "df_get_data_predict.sample(5)"
   ]
  },
  {
   "cell_type": "markdown",
   "metadata": {},
   "source": [
    "# Predict"
   ]
  },
  {
   "cell_type": "markdown",
   "metadata": {},
   "source": [
    "## Load model"
   ]
  },
  {
   "cell_type": "code",
   "execution_count": null,
   "metadata": {},
   "outputs": [],
   "source": [
    "settings.DATAPATH"
   ]
  },
  {
   "cell_type": "code",
   "execution_count": null,
   "metadata": {
    "scrolled": false
   },
   "outputs": [],
   "source": [
    "%%time\n",
    "# ## HARDCODED\n",
    "# filename = ''\n",
    "# trained_model = pickle.load(open(datapath + filename, 'rb'))\n",
    "\n",
    "# # ## SELECT LAST FILE\n",
    "trained_model = get_latest_file(filename_str_contains='best_model_', datapath='../../data/', filetype='pickle')\n",
    "\n",
    "print(f\"Loaded model is: {trained_model}\")"
   ]
  },
  {
   "cell_type": "markdown",
   "metadata": {},
   "source": [
    "## Predict"
   ]
  },
  {
   "cell_type": "code",
   "execution_count": null,
   "metadata": {},
   "outputs": [],
   "source": [
    "%%time\n",
    "\n",
    "df_predict = predict_data(trained_model=trained_model,\n",
    "                          periods=settings.get_data_predict['LIST_PERIODS'],\n",
    "                          df_get_data=df_get_data,\n",
    "                          df_get_data_predict=df_get_data_predict,\n",
    "                          save_all=True, personal_note=\"final\")\n",
    "    \n",
    "print(f\"The shape of the dataframe from step 'Predict': {df_predict.shape}\")\n",
    "df_predict.sample(5)"
   ]
  },
  {
   "cell_type": "code",
   "execution_count": null,
   "metadata": {},
   "outputs": [],
   "source": []
  },
  {
   "cell_type": "code",
   "execution_count": null,
   "metadata": {},
   "outputs": [],
   "source": []
  }
 ],
 "metadata": {
  "kernelspec": {
   "display_name": "Python 3",
   "language": "python",
   "name": "python3"
  },
  "language_info": {
   "codemirror_mode": {
    "name": "ipython",
    "version": 3
   },
   "file_extension": ".py",
   "mimetype": "text/x-python",
   "name": "python",
   "nbconvert_exporter": "python",
   "pygments_lexer": "ipython3",
   "version": "3.8.8"
  },
  "toc": {
   "base_numbering": 1,
   "nav_menu": {},
   "number_sections": true,
   "sideBar": true,
   "skip_h1_title": false,
   "title_cell": "Table of Contents",
   "title_sidebar": "Contents",
   "toc_cell": false,
   "toc_position": {},
   "toc_section_display": true,
   "toc_window_display": false
  }
 },
 "nbformat": 4,
 "nbformat_minor": 4
}
