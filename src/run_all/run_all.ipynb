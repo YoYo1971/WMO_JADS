{
 "cells": [
  {
   "cell_type": "markdown",
   "metadata": {},
   "source": [
    "# Imports & settings"
   ]
  },
  {
   "cell_type": "code",
   "execution_count": null,
   "metadata": {},
   "outputs": [],
   "source": [
    "# Python packages\n",
    "import sys\n",
    "sys.path.append('../../')\n",
    "from datetime import datetime\n",
    "import numpy as np\n",
    "import pandas as pd\n",
    "import pickle\n",
    "\n",
    "# Custom functions\n",
    "import src.settings as settings\n",
    "from src.run_all.get_data import get_data, get_data_predict\n",
    "from src.run_all.preprocess import preprocess_data\n",
    "from src.run_all.train import train_and_fit_models\n",
    "from src.run_all.predict import predict_data\n",
    "from src.utilities.utilities import get_latest_file, list_filenames\n",
    "\n",
    "# Settings for displaying DataFrames\n",
    "pd.set_option('display.max_rows', 500) # number of rows to show\n",
    "pd.set_option('display.max_columns', 500) # number of columns to show\n",
    "pd.set_option('display.width', 1000) # column width\n",
    "pd.set_option(\"display.precision\", 2) # precision of column\n",
    "pd.set_option('display.float_format', lambda x: '{:.15f}'.format(x)) # float format"
   ]
  },
  {
   "cell_type": "markdown",
   "metadata": {},
   "source": [
    "# Base settings\n",
    "For this project all settings are included in the file `src/settings.py`. This notebook is the summary of all the code developed and as a showcase. The base settings are to ensure the code below is run in the right order.\n",
    "\n",
    "\n",
    "`PROCES` : str\n",
    "\n",
    "    String value of the proces to be runned. Options for string are one of the following list: \n",
    "    `['train', 'predict', 'train_and_predict']`\n",
    "    \n",
    "`SOURCE` : str\n",
    "\n",
    "    String value of the source of the data. As a user you can choose to get the newest data from CBS Statline \n",
    "    by running the total script from scratch (will take a number of minutes) or use the collected data as saved \n",
    "    in this project. IMPORTANT NOTE: By collecting new data, there may be a possibility that CBS has changed \n",
    "    columnnames, deleted tables, etc. In that case the code may run into an error!\n",
    "    \n",
    "    Options:\n",
    "    \n",
    "    1. Get (new) data from CBS or apply gridsearch on preprocessed data: 'new'\n",
    "    2. From hardcoded files of get data: 'hardcoded'\n",
    "    \n",
    "`PERSONAL_NOTE` : str\n",
    "\n",
    "    String value to add to the different filenames to make sure the user recognizes the files they have generated."
   ]
  },
  {
   "cell_type": "code",
   "execution_count": null,
   "metadata": {},
   "outputs": [],
   "source": [
    "PROCESS = 'predict'\n",
    "SOURCE = 'hardcoded'\n",
    "PERSONAL_NOTE = PROCESS+'_'+SOURCE"
   ]
  },
  {
   "cell_type": "markdown",
   "metadata": {},
   "source": [
    "# Get data\n",
    "This step will load and combine several tables from CBS statline. \n",
    "\n",
    "Note: This step takes a number of minutes and without changes to the settings will give the same result. Therefor this code is commented out and the original dataset is loaded. "
   ]
  },
  {
   "cell_type": "code",
   "execution_count": null,
   "metadata": {},
   "outputs": [],
   "source": [
    "%%time\n",
    "if SOURCE == 'new':\n",
    "    # Get historical data (needed for training and predicting)\n",
    "    df_get_data = get_data(save_all=True, personal_note=PERSONAL_NOTE)\n",
    "    if 'predict' in PROCESS:\n",
    "        # Get prognosed data\n",
    "        df_get_data_predict = get_data_predict(save_all=True, personal_note=PERSONAL_NOTE)\n",
    "    else:\n",
    "        df_get_data_predict = pd.DataFrame()\n",
    "elif SOURCE == 'hardcoded':\n",
    "    # Get historical data (needed for training and predicting)\n",
    "    filename = 'df_get_data_WMO_WIJK_HUISHOUDENS_BEVOLKING_HEFFING_202104241837_train_and_predict_new.parquet.gzip'\n",
    "    df_get_data = pd.read_parquet(settings.DATAPATH + filename)\n",
    "    if 'predict' in PROCESS:\n",
    "        # Get prognosed data\n",
    "        filename = 'df_get_data_predict_202104241838_train_and_predict_new.parquet.gzip'\n",
    "        df_get_data_predict = pd.read_parquet(settings.DATAPATH + filename)\n",
    "    else:\n",
    "        df_get_data_predict = pd.DataFrame()"
   ]
  },
  {
   "cell_type": "code",
   "execution_count": null,
   "metadata": {},
   "outputs": [],
   "source": [
    "print(f\"The shape of the dataframe from step 'Get Data': {df_get_data.shape}\")\n",
    "df_get_data.sample(5)"
   ]
  },
  {
   "cell_type": "code",
   "execution_count": null,
   "metadata": {},
   "outputs": [],
   "source": [
    "print(f\"The shape of the dataframe from step 'Get Data Predict': {df_get_data_predict.shape}\")\n",
    "df_get_data_predict.head()"
   ]
  },
  {
   "cell_type": "markdown",
   "metadata": {},
   "source": [
    "# Preprocess data"
   ]
  },
  {
   "cell_type": "code",
   "execution_count": null,
   "metadata": {},
   "outputs": [],
   "source": [
    "%%time\n",
    "if 'train' in PROCESS:\n",
    "    # This step is included in the code of the predict step\n",
    "    df_preprocessed = preprocess_data(df=df_get_data, save_all=True, personal_note=PERSONAL_NOTE)\n",
    "    print(f\"The shape of the dataframe from step 'Preprocess': {df_preprocessed.shape}\")\n",
    "else:\n",
    "    df_preprocessed = pd.DataFrame()\n",
    "df_preprocessed.head()"
   ]
  },
  {
   "cell_type": "markdown",
   "metadata": {},
   "source": [
    "# Train"
   ]
  },
  {
   "cell_type": "code",
   "execution_count": null,
   "metadata": {},
   "outputs": [],
   "source": [
    "%%time\n",
    "if 'train' in PROCESS:\n",
    "    gridsearch_object = train_and_fit_models(df_preprocessed=df_preprocessed,\n",
    "                                            filename_input=PERSONAL_NOTE,\n",
    "                                            save_all=True,\n",
    "                                            personal_note=PERSONAL_NOTE)\n",
    "    best_trained_model = gridsearch_object.best_estimator_\n",
    "else:\n",
    "    best_trained_model = get_latest_file(filename_str_contains='best_model_202104241838_train_and_predict_new', \n",
    "                                         datapath=settings.DATAPATH, filetype='pickle')\n",
    "    print(f\"Loaded model is: {best_trained_model}\")"
   ]
  },
  {
   "cell_type": "markdown",
   "metadata": {},
   "source": [
    "# Predict"
   ]
  },
  {
   "cell_type": "code",
   "execution_count": null,
   "metadata": {},
   "outputs": [],
   "source": [
    "%%time\n",
    "if 'predict' in PROCESS:\n",
    "    df_predict = predict_data(trained_model=best_trained_model,\n",
    "                              periods=settings.get_data_predict['LIST_PERIODS'],\n",
    "                              df_get_data=df_get_data,\n",
    "                              df_get_data_predict=df_get_data_predict,\n",
    "                              save_all=True, personal_note=PERSONAL_NOTE)\n",
    "\n",
    "    print(f\"The shape of the dataframe from step 'Predict': {df_predict.shape}\")\n",
    "else:\n",
    "    df_predict = pd.DataFrame()\n",
    "df_predict.head()"
   ]
  },
  {
   "cell_type": "code",
   "execution_count": null,
   "metadata": {},
   "outputs": [],
   "source": []
  },
  {
   "cell_type": "code",
   "execution_count": null,
   "metadata": {},
   "outputs": [],
   "source": []
  }
 ],
 "metadata": {
  "kernelspec": {
   "display_name": "Python 3",
   "language": "python",
   "name": "python3"
  },
  "language_info": {
   "codemirror_mode": {
    "name": "ipython",
    "version": 3
   },
   "file_extension": ".py",
   "mimetype": "text/x-python",
   "name": "python",
   "nbconvert_exporter": "python",
   "pygments_lexer": "ipython3",
   "version": "3.8.8"
  },
  "toc": {
   "base_numbering": 1,
   "nav_menu": {},
   "number_sections": true,
   "sideBar": true,
   "skip_h1_title": false,
   "title_cell": "Table of Contents",
   "title_sidebar": "Contents",
   "toc_cell": false,
   "toc_position": {},
   "toc_section_display": true,
   "toc_window_display": false
  }
 },
 "nbformat": 4,
 "nbformat_minor": 4
}
