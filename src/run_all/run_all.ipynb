{
 "cells": [
  {
   "cell_type": "markdown",
   "metadata": {},
   "source": [
    "# Imports"
   ]
  },
  {
   "cell_type": "code",
   "execution_count": 1,
   "metadata": {},
   "outputs": [],
   "source": [
    "import sys\n",
    "sys.path.append('../')\n",
    "from datetime import datetime\n",
    "import numpy as np\n",
    "import pandas as pd\n",
    "\n",
    "# import src.settings as settings\n",
    "# from src.preprocess.preprocess import get_and_combine_cbs_tables, rename_and_subset_cols, get_region_period_spec_val_subtable\n",
    "from run_all.main_preprocess import load_data, add_features\n",
    "from utilities.utilities import get_latest_file\n",
    "\n",
    "pd.set_option('display.max_rows', 500)\n",
    "pd.set_option('display.max_columns', 500)\n",
    "pd.set_option('display.width', 1000)"
   ]
  },
  {
   "cell_type": "code",
   "execution_count": null,
   "metadata": {},
   "outputs": [],
   "source": []
  },
  {
   "cell_type": "markdown",
   "metadata": {},
   "source": [
    "# Preprocess"
   ]
  },
  {
   "cell_type": "code",
   "execution_count": 2,
   "metadata": {
    "scrolled": false
   },
   "outputs": [
    {
     "name": "stdout",
     "output_type": "stream",
     "text": [
      "Get 'WMO' tables\n",
      "Number of tables to collect: 4\n",
      "Pythonic iteration 2020 for table 84908NED\n",
      "Pythonic iteration 2019 for table 84753NED\n",
      "Pythonic iteration 2018 for table 84752NED\n",
      "Pythonic iteration 2017 for table 84751NED\n",
      "Get 'WIJK' tables\n",
      "Number of tables to collect: 6\n",
      "Pythonic iteration 2020 for table 84799NED\n",
      "Pythonic iteration 2019 for table 84583NED\n",
      "Pythonic iteration 2018 for table 84286NED\n",
      "Pythonic iteration 2017 for table 83765NED\n",
      "Pythonic iteration 2016 for table 83487NED\n",
      "Pythonic iteration 2015 for table 83220NED\n",
      "Get 'Huishoudens' data\n",
      "Number of tables to collect: 1\n",
      "Pythonic iteration all for table 83504NED\n",
      "Get 'Bevolkings' data\n",
      "Number of tables to collect: 1\n",
      "Pythonic iteration all for table 70072NED\n",
      "Get 'Gemeentelijke heffingen' data\n",
      "Number of tables to collect: 1\n",
      "Pythonic iteration all for table 83643NED\n",
      "Combine all datasets to one DataFrame\n",
      "CPU times: user 52.4 s, sys: 12.8 s, total: 1min 5s\n",
      "Wall time: 9min 15s\n"
     ]
    }
   ],
   "source": [
    "%%time\n",
    "# Load original sources and combine to one DataFrame\n",
    "df_dataset_WMO = load_data(region='gemeente')"
   ]
  },
  {
   "cell_type": "code",
   "execution_count": 6,
   "metadata": {},
   "outputs": [
    {
     "data": {
      "text/plain": [
       "(2252, 471)"
      ]
     },
     "execution_count": 6,
     "metadata": {},
     "output_type": "execute_result"
    }
   ],
   "source": [
    "df_dataset_WMO.shape"
   ]
  },
  {
   "cell_type": "code",
   "execution_count": 4,
   "metadata": {},
   "outputs": [],
   "source": [
    "datapath = '../../data/'\n",
    "filename = 'df_WMO_WIJK_HOUSEHOLDS_POP_LEVY_absolute.parquet.gzip'\n",
    "\n",
    "df_dataset_WMO.to_parquet(datapath + filename,\n",
    "              compression='gzip')\n",
    "\n",
    "# df_dataset_WMO = pd.read_parquet(datapath + filename)"
   ]
  },
  {
   "cell_type": "code",
   "execution_count": null,
   "metadata": {},
   "outputs": [],
   "source": [
    "# 21:44\n",
    "df_dataset_WMO.head()"
   ]
  },
  {
   "cell_type": "code",
   "execution_count": null,
   "metadata": {},
   "outputs": [],
   "source": [
    "df_dataset_WMO.shape"
   ]
  },
  {
   "cell_type": "code",
   "execution_count": null,
   "metadata": {},
   "outputs": [],
   "source": [
    "list(df_dataset_WMO.columns)"
   ]
  },
  {
   "cell_type": "code",
   "execution_count": null,
   "metadata": {},
   "outputs": [],
   "source": [
    "drop_list = ['popcodea',\n",
    " 'popcodeb',\n",
    " 'popcodec',\n",
    " 'popcoded',\n",
    " 'popcodee',\n",
    " 'popcodef',\n",
    " 'popcodeg',\n",
    " 'popcodeh',\n",
    " 'popcodei',\n",
    " 'popcodej',\n",
    " 'popcodek',\n",
    " 'popcodel',\n",
    " 'popcodem',\n",
    " 'popcoden',\n",
    " 'popcodeo',\n",
    " 'popcodep',\n",
    " 'popcodeq',\n",
    " 'popcoder',\n",
    " 'popnaama',\n",
    " 'popnaamb',\n",
    " 'popnaamc',\n",
    " 'popnaamd',\n",
    " 'popnaame',\n",
    " 'popnaamf',\n",
    " 'popnaamg',\n",
    " 'popnaamh',\n",
    " 'popnaami',\n",
    " 'popnaamj',\n",
    " 'popnaamk',\n",
    " 'popnaaml',\n",
    " 'popnaamm',\n",
    " 'popnaamn',\n",
    " 'popnaamo',\n",
    " 'popnaamp',\n",
    " 'popnaamq',\n",
    " 'popnaamr',\n",
    "'popkoppelvariabeleregiocode']"
   ]
  },
  {
   "cell_type": "code",
   "execution_count": null,
   "metadata": {},
   "outputs": [],
   "source": [
    "df_dataset_WMO = df_dataset_WMO.drop(drop_list, axis=1)"
   ]
  },
  {
   "cell_type": "code",
   "execution_count": null,
   "metadata": {},
   "outputs": [],
   "source": [
    "df_dataset_WMO.head()"
   ]
  },
  {
   "cell_type": "code",
   "execution_count": null,
   "metadata": {},
   "outputs": [],
   "source": [
    "df_dataset_WMO.fillna(value=np.nan, inplace=True)"
   ]
  },
  {
   "cell_type": "code",
   "execution_count": null,
   "metadata": {
    "scrolled": true
   },
   "outputs": [],
   "source": [
    "%%time\n",
    "# Feature engineering to get more features\n",
    "df_dataset_WMO_with_features = add_features(df_dataset_WMO)"
   ]
  },
  {
   "cell_type": "code",
   "execution_count": null,
   "metadata": {},
   "outputs": [],
   "source": [
    "df_dataset_WMO_with_features.shape"
   ]
  },
  {
   "cell_type": "code",
   "execution_count": null,
   "metadata": {},
   "outputs": [],
   "source": [
    "datapath = '../../data/'\n",
    "filename = 'df_WMO_WIJK_HOUSEHOLDS_POP_LEVY_features.parquet.gzip'\n",
    "\n",
    "df_dataset_WMO_with_features.to_parquet(datapath + filename,\n",
    "              compression='gzip')\n",
    "\n",
    "# df_dataset_WMO = pd.read_parquet(datapath + filename)"
   ]
  },
  {
   "cell_type": "markdown",
   "metadata": {},
   "source": [
    "## Optional: Write temporary result"
   ]
  },
  {
   "cell_type": "code",
   "execution_count": null,
   "metadata": {},
   "outputs": [],
   "source": [
    "# suffix_datetime = datetime.strftime(datetime.now(), format='%Y%m%d%H%M')\n",
    "\n",
    "# df_dataset_WMO_with_features.to_parquet(f'../../data/df_preprocess_WMO_{suffix_datetime}.parquet.gzip',\n",
    "#               compression='gzip')"
   ]
  },
  {
   "cell_type": "markdown",
   "metadata": {},
   "source": [
    "# Train"
   ]
  },
  {
   "cell_type": "markdown",
   "metadata": {},
   "source": [
    "## Optional: Load previous dataset"
   ]
  },
  {
   "cell_type": "code",
   "execution_count": null,
   "metadata": {},
   "outputs": [],
   "source": [
    "# ## HARDCODED\n",
    "# datapath = '../../data/'\n",
    "# filename = 'df_preprocess_WMO_202103211137.parquet.gzip'\n",
    "# df = pd.read_parquet(datapath + filename)\n",
    "\n",
    "# ## SELECT LAST FILE\n",
    "# datapath = '../../data/'\n",
    "# df = get_latest_file(filename_str_contains='df_preprocess_WMO_', datapath=datapath, filetype='parquet')"
   ]
  },
  {
   "cell_type": "markdown",
   "metadata": {},
   "source": [
    "## Train model\n",
    "Code will be added later"
   ]
  },
  {
   "cell_type": "code",
   "execution_count": null,
   "metadata": {},
   "outputs": [],
   "source": []
  },
  {
   "cell_type": "code",
   "execution_count": null,
   "metadata": {},
   "outputs": [],
   "source": []
  },
  {
   "cell_type": "code",
   "execution_count": null,
   "metadata": {},
   "outputs": [],
   "source": []
  },
  {
   "cell_type": "code",
   "execution_count": null,
   "metadata": {},
   "outputs": [],
   "source": []
  }
 ],
 "metadata": {
  "kernelspec": {
   "display_name": "Python [conda env:jads-env] *",
   "language": "python",
   "name": "conda-env-jads-env-py"
  },
  "language_info": {
   "codemirror_mode": {
    "name": "ipython",
    "version": 3
   },
   "file_extension": ".py",
   "mimetype": "text/x-python",
   "name": "python",
   "nbconvert_exporter": "python",
   "pygments_lexer": "ipython3",
   "version": "3.8.8"
  },
  "toc": {
   "base_numbering": 1,
   "nav_menu": {},
   "number_sections": true,
   "sideBar": true,
   "skip_h1_title": false,
   "title_cell": "Table of Contents",
   "title_sidebar": "Contents",
   "toc_cell": false,
   "toc_position": {},
   "toc_section_display": true,
   "toc_window_display": false
  }
 },
 "nbformat": 4,
 "nbformat_minor": 4
}
