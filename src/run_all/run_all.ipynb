{
 "cells": [
  {
   "cell_type": "markdown",
   "metadata": {},
   "source": [
    "# Imports"
   ]
  },
  {
   "cell_type": "code",
   "execution_count": null,
   "metadata": {},
   "outputs": [],
   "source": [
    "import sys\n",
    "sys.path.append('../')\n",
    "from datetime import datetime\n",
    "import pandas as pd\n",
    "\n",
    "from run_all.main_preprocess import load_data, add_features\n",
    "from utilities.utilities import get_latest_file\n",
    "\n",
    "pd.set_option('display.max_rows', 500)\n",
    "pd.set_option('display.max_columns', 500)\n",
    "pd.set_option('display.width', 1000)"
   ]
  },
  {
   "cell_type": "markdown",
   "metadata": {},
   "source": [
    "# Preprocess"
   ]
  },
  {
   "cell_type": "code",
   "execution_count": null,
   "metadata": {
    "scrolled": false
   },
   "outputs": [],
   "source": [
    "%%time\n",
    "# Load original sources and combine to one DataFrame\n",
    "# df_dataset_WMO, df_households = load_data()\n",
    "df_dataset_WMO = load_data(region='gemeente')"
   ]
  },
  {
   "cell_type": "code",
   "execution_count": null,
   "metadata": {},
   "outputs": [],
   "source": [
    "df_dataset_WMO.shape\n",
    "\n",
    "## Conclusion: Wijk doet het prima, gemeente levert leeg df op. Uitzoeken hoe dat kan....."
   ]
  },
  {
   "cell_type": "code",
   "execution_count": null,
   "metadata": {},
   "outputs": [],
   "source": [
    "df_households.head()"
   ]
  },
  {
   "cell_type": "code",
   "execution_count": null,
   "metadata": {},
   "outputs": [],
   "source": [
    "df_dataset_WMO = pd.merge(df_dataset_WMO, df_households, how='inner', left_on=['gemeentenaam', 'interval'],\n",
    "                          right_on=['gemeentenaam', 'interval'])\n",
    "df_dataset_WMO = df_dataset_WMO.set_index(['codering_regio', 'interval'])"
   ]
  },
  {
   "cell_type": "code",
   "execution_count": null,
   "metadata": {},
   "outputs": [],
   "source": [
    "df_dataset_WMO = df_dataset_WMO.head()"
   ]
  },
  {
   "cell_type": "code",
   "execution_count": null,
   "metadata": {},
   "outputs": [],
   "source": [
    "df_dataset_WMO"
   ]
  },
  {
   "cell_type": "code",
   "execution_count": null,
   "metadata": {},
   "outputs": [],
   "source": []
  },
  {
   "cell_type": "code",
   "execution_count": null,
   "metadata": {},
   "outputs": [],
   "source": []
  },
  {
   "cell_type": "code",
   "execution_count": null,
   "metadata": {},
   "outputs": [],
   "source": []
  },
  {
   "cell_type": "code",
   "execution_count": null,
   "metadata": {},
   "outputs": [],
   "source": []
  },
  {
   "cell_type": "code",
   "execution_count": null,
   "metadata": {},
   "outputs": [],
   "source": []
  },
  {
   "cell_type": "code",
   "execution_count": null,
   "metadata": {},
   "outputs": [],
   "source": [
    "df_wijk = get_and_combine_cbs_tables(dict_tables=settings.WIJK_TABLES,\n",
    "                                     double_trouble_colnames=settings.DOUBLETROUBLECOLNAMES_WIJK,\n",
    "                                     url=settings.CBS_OPEN_URL)\n",
    "df_wijk_sub = rename_and_subset_cols(df=df_wijk,\n",
    "                                     dict_rename=settings.DICT_WIJK_COLS_RENAMED,\n",
    "                                     list_cols=['id', 'wijkenenbuurten', 'soortregio',\n",
    "                                                'indelingswijzigingwijkenenbuurten'],\n",
    "                                     include=False)\n",
    "df_wijk_sub['codering_regio'] = df_wijk_sub['codering_regio'].str.strip()\n",
    "df_wijk_sub['gemeentenaam'] = df_wijk_sub['gemeentenaam'].str.strip()\n",
    "df_wijk_sub['perioden'] = df_wijk_sub['interval'] # just to apply function\n",
    "df_pc_gem = df_wijk_sub[df_wijk_sub.codering_regio.str.startswith('BU', na=False)][\n",
    "    ['codering_regio', 'interval', 'gemeentenaam', 'meestvoorkomendepostcode']].copy()"
   ]
  },
  {
   "cell_type": "code",
   "execution_count": null,
   "metadata": {},
   "outputs": [],
   "source": [
    "df_pc_gem.sample(5)"
   ]
  },
  {
   "cell_type": "code",
   "execution_count": null,
   "metadata": {},
   "outputs": [],
   "source": [
    "df_pc_gem = df_pc_gem.rename(columns={'meestvoorkomendepostcode':'postcode'})\n",
    "df_pc_gem['postcode'] = df_pc_gem['postcode'].str.strip()\n",
    "df_pc_gem = df_pc_gem.set_index(['postcode', 'interval'])\n",
    "df_pc_gem.sample(5)"
   ]
  },
  {
   "cell_type": "code",
   "execution_count": null,
   "metadata": {},
   "outputs": [],
   "source": [
    "df_pc_gem.index"
   ]
  },
  {
   "cell_type": "code",
   "execution_count": null,
   "metadata": {},
   "outputs": [],
   "source": [
    "df_pc_gem = df_pc_gem.rename({'meestvoorkomendepostcode':'postcode'})\n",
    "df_pc_gem = df_pc_gem.set_index(['postcode', 'interval'])"
   ]
  },
  {
   "cell_type": "code",
   "execution_count": null,
   "metadata": {},
   "outputs": [],
   "source": [
    "import src.settings as settings\n",
    "from src.preprocess.preprocess import get_and_combine_cbs_tables, rename_and_subset_cols, \\\n",
    "    get_region_period_spec_val_subtable, downcast_variables_dataframe\n",
    "import numpy as np"
   ]
  },
  {
   "cell_type": "code",
   "execution_count": null,
   "metadata": {},
   "outputs": [],
   "source": [
    "df_households = get_and_combine_cbs_tables(dict_tables=settings.DICT_POSITIE_HUISHOUDEN, url=settings.CBS_OPEN_URL)\n",
    "df_households.rename(columns={'perioden': 'interval'})\n",
    "indexNames = df_households[(df_households['postcode'] == 'Nederland') | (df_households['postcode'] == 'Niet in te delen')].index\n",
    "df_households.drop(indexNames , inplace=True)\n",
    "for col in ['geslacht', 'positieinhethuishouden']:\n",
    "    df_households[col] = df_households[col].str.lower().str.replace(\" \", \"_\")\n",
    "df_households['positiehuishouden'] = df_households['positieinhethuishouden'] + '_' + df_households['geslacht']\n",
    "df_households = df_households[['bevolking', 'positiehuishouden', 'postcode', 'interval']]\n",
    "df_households = pd.pivot_table(data=df_households, values='bevolking', index=['postcode','interval'], columns=['positiehuishouden'], aggfunc=np.sum).reset_index() \n",
    "df_households = df_households.set_index(['postcode', 'interval'])\n",
    "df_households = pd.merge(df_households, df_pc_gem, how='inner', left_index=True, right_index=True).reset_index()\n",
    "df_households = df_households.groupby(by=[\"codering_regio\"]).sum().reset_index()\n",
    "df_households = df_households.set_index(['codering_regio', 'interval'])"
   ]
  },
  {
   "cell_type": "code",
   "execution_count": null,
   "metadata": {},
   "outputs": [],
   "source": [
    "df_households.head(5)"
   ]
  },
  {
   "cell_type": "code",
   "execution_count": null,
   "metadata": {},
   "outputs": [],
   "source": [
    "df_householdss = df_households.copy()"
   ]
  },
  {
   "cell_type": "code",
   "execution_count": null,
   "metadata": {},
   "outputs": [],
   "source": [
    "df_households.rename(columns={'perioden': 'interval'})\n",
    "for col in ['geslacht', 'positieinhethuishouden']:\n",
    "    df_householdss[col] = df_householdss[col].str.lower().str.replace(\" \", \"_\")\n",
    "df_householdss['positiehuishouden'] = df_householdss['positieinhethuishouden'] + '_' + df_householdss['geslacht']\n",
    "df_householdss = df_householdss[['bevolking', 'positiehuishouden', 'postcode', 'interval']]\n",
    "df_householdss = pd.pivot_table(data=df_householdss, values='bevolking', index=['postcode','interval'], columns=['positiehuishouden'], aggfunc=np.sum).reset_index() \n",
    "df_householdss = df_householdss.set_index(['postcode', 'interval'])\n",
    "df_householdss = pd.merge(df_householdss, df_pc_gem, how='inner', left_index=True, right_index=True).reset_index()\n",
    "df_householdss = df_householdss.groupby(by=['gemeentenaam', 'interval']).sum().reset_index()\n",
    "# df_householdss = df_householdss.set_index(['codering_regio', 'interval'])"
   ]
  },
  {
   "cell_type": "code",
   "execution_count": null,
   "metadata": {},
   "outputs": [],
   "source": [
    "df_householdss.head()"
   ]
  },
  {
   "cell_type": "code",
   "execution_count": null,
   "metadata": {},
   "outputs": [],
   "source": [
    "df_dataset_WMO2 = pd.merge(df_dataset_WMO, df_householdss, how='inner', left_on=['gemeentenaam', 'interval'], right_on=['gemeentenaam', 'interval'])"
   ]
  },
  {
   "cell_type": "code",
   "execution_count": null,
   "metadata": {},
   "outputs": [],
   "source": [
    "df_dataset_WMO2.head()"
   ]
  },
  {
   "cell_type": "code",
   "execution_count": null,
   "metadata": {},
   "outputs": [],
   "source": [
    "df_dataset_WMO2.shape"
   ]
  },
  {
   "cell_type": "code",
   "execution_count": null,
   "metadata": {},
   "outputs": [],
   "source": [
    "df_householdss.head()"
   ]
  },
  {
   "cell_type": "code",
   "execution_count": null,
   "metadata": {},
   "outputs": [],
   "source": [
    "df_households.positieinhethuishouden.unique()"
   ]
  },
  {
   "cell_type": "code",
   "execution_count": null,
   "metadata": {},
   "outputs": [],
   "source": [
    "df_households.geslacht.unique()"
   ]
  },
  {
   "cell_type": "code",
   "execution_count": null,
   "metadata": {},
   "outputs": [],
   "source": [
    "indexNames"
   ]
  },
  {
   "cell_type": "code",
   "execution_count": null,
   "metadata": {},
   "outputs": [],
   "source": [
    "'84721NED'"
   ]
  },
  {
   "cell_type": "code",
   "execution_count": null,
   "metadata": {},
   "outputs": [],
   "source": [
    "import cbsodata\n",
    "df_sub = pd.DataFrame(cbsodata.get_data('84721NED', catalog_url='opendata.cbs.nl'))"
   ]
  },
  {
   "cell_type": "code",
   "execution_count": null,
   "metadata": {},
   "outputs": [],
   "source": [
    "df_sub"
   ]
  },
  {
   "cell_type": "code",
   "execution_count": null,
   "metadata": {},
   "outputs": [],
   "source": [
    "df_wmo = pd.DataFrame(cbsodata.get_data('84583NED', catalog_url='opendata.cbs.nl'))"
   ]
  },
  {
   "cell_type": "code",
   "execution_count": null,
   "metadata": {},
   "outputs": [],
   "source": [
    "df_wmo.head()"
   ]
  },
  {
   "cell_type": "code",
   "execution_count": null,
   "metadata": {},
   "outputs": [],
   "source": [
    "df_wmo = df_wmo[df_wmo.Codering_3.str.startswith('BU', na=False)]"
   ]
  },
  {
   "cell_type": "code",
   "execution_count": null,
   "metadata": {},
   "outputs": [],
   "source": [
    "df_wmo.MeestVoorkomendePostcode_103.nunique()"
   ]
  },
  {
   "cell_type": "code",
   "execution_count": null,
   "metadata": {},
   "outputs": [],
   "source": [
    "df_wmo[['Gemeentenaam_1', 'Codering_3', 'MeestVoorkomendePostcode_103']]"
   ]
  },
  {
   "cell_type": "code",
   "execution_count": null,
   "metadata": {},
   "outputs": [],
   "source": [
    "df_wmo['Codering_3'].unique()"
   ]
  },
  {
   "cell_type": "code",
   "execution_count": null,
   "metadata": {},
   "outputs": [],
   "source": []
  },
  {
   "cell_type": "code",
   "execution_count": null,
   "metadata": {},
   "outputs": [],
   "source": []
  },
  {
   "cell_type": "code",
   "execution_count": null,
   "metadata": {},
   "outputs": [],
   "source": []
  },
  {
   "cell_type": "code",
   "execution_count": null,
   "metadata": {},
   "outputs": [],
   "source": []
  },
  {
   "cell_type": "code",
   "execution_count": null,
   "metadata": {},
   "outputs": [],
   "source": []
  },
  {
   "cell_type": "code",
   "execution_count": null,
   "metadata": {},
   "outputs": [],
   "source": []
  },
  {
   "cell_type": "code",
   "execution_count": null,
   "metadata": {},
   "outputs": [],
   "source": []
  },
  {
   "cell_type": "code",
   "execution_count": null,
   "metadata": {
    "scrolled": true
   },
   "outputs": [],
   "source": [
    "%%time\n",
    "# Feature engineering to get more features\n",
    "df_dataset_WMO_with_features = add_features(df_dataset_WMO)"
   ]
  },
  {
   "cell_type": "markdown",
   "metadata": {},
   "source": [
    "## Optional: Write temporary result"
   ]
  },
  {
   "cell_type": "code",
   "execution_count": null,
   "metadata": {},
   "outputs": [],
   "source": [
    "# suffix_datetime = datetime.strftime(datetime.now(), format='%Y%m%d%H%M')\n",
    "\n",
    "# df_dataset_WMO_with_features.to_parquet(f'../../data/df_preprocess_WMO_{suffix_datetime}.parquet.gzip',\n",
    "#               compression='gzip')"
   ]
  },
  {
   "cell_type": "markdown",
   "metadata": {},
   "source": [
    "# Train"
   ]
  },
  {
   "cell_type": "markdown",
   "metadata": {},
   "source": [
    "## Optional: Load previous dataset"
   ]
  },
  {
   "cell_type": "code",
   "execution_count": null,
   "metadata": {},
   "outputs": [],
   "source": [
    "# ## HARDCODED\n",
    "# datapath = '../../data/'\n",
    "# filename = 'df_preprocess_WMO_202103211137.parquet.gzip'\n",
    "# df = pd.read_parquet(datapath + filename)\n",
    "\n",
    "# ## SELECT LAST FILE\n",
    "# datapath = '../../data/'\n",
    "# df = get_latest_file(filename_str_contains='df_preprocess_WMO_', datapath=datapath, filetype='parquet')"
   ]
  },
  {
   "cell_type": "markdown",
   "metadata": {},
   "source": [
    "## Train model\n",
    "Code will be added later"
   ]
  },
  {
   "cell_type": "code",
   "execution_count": null,
   "metadata": {},
   "outputs": [],
   "source": []
  },
  {
   "cell_type": "code",
   "execution_count": null,
   "metadata": {},
   "outputs": [],
   "source": []
  },
  {
   "cell_type": "code",
   "execution_count": null,
   "metadata": {},
   "outputs": [],
   "source": []
  },
  {
   "cell_type": "code",
   "execution_count": null,
   "metadata": {},
   "outputs": [],
   "source": []
  }
 ],
 "metadata": {
  "kernelspec": {
   "display_name": "Python [conda env:ames-env]",
   "language": "python",
   "name": "conda-env-ames-env-py"
  },
  "language_info": {
   "codemirror_mode": {
    "name": "ipython",
    "version": 3
   },
   "file_extension": ".py",
   "mimetype": "text/x-python",
   "name": "python",
   "nbconvert_exporter": "python",
   "pygments_lexer": "ipython3",
   "version": "3.7.9"
  },
  "toc": {
   "base_numbering": 1,
   "nav_menu": {},
   "number_sections": true,
   "sideBar": true,
   "skip_h1_title": false,
   "title_cell": "Table of Contents",
   "title_sidebar": "Contents",
   "toc_cell": false,
   "toc_position": {},
   "toc_section_display": true,
   "toc_window_display": false
  }
 },
 "nbformat": 4,
 "nbformat_minor": 4
}
