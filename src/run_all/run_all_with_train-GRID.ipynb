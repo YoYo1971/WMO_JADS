{
 "cells": [
  {
   "cell_type": "markdown",
   "metadata": {},
   "source": [
    "# Imports"
   ]
  },
  {
   "cell_type": "code",
   "execution_count": 1,
   "metadata": {},
   "outputs": [],
   "source": [
    "import sys\n",
    "sys.path.append('../')\n",
    "from datetime import datetime\n",
    "import pandas as pd\n",
    "\n",
    "from run_all.main_preprocess import load_data, add_features\n",
    "from utilities.utilities import get_latest_file\n",
    "\n",
    "pd.set_option('display.max_rows', 500)\n",
    "pd.set_option('display.max_columns', 500)\n",
    "pd.set_option('display.width', 1000)"
   ]
  },
  {
   "cell_type": "markdown",
   "metadata": {},
   "source": [
    "# Preprocess"
   ]
  },
  {
   "cell_type": "code",
   "execution_count": null,
   "metadata": {},
   "outputs": [],
   "source": [
    "%%time\n",
    "# Load original sources and combine to one DataFrame\n",
    "df_dataset_WMO = load_data()"
   ]
  },
  {
   "cell_type": "code",
   "execution_count": null,
   "metadata": {},
   "outputs": [],
   "source": [
    "%%time\n",
    "# Feature engineering to get more features\n",
    "df_dataset_WMO_with_features = add_features(df_dataset_WMO)"
   ]
  },
  {
   "cell_type": "markdown",
   "metadata": {},
   "source": [
    "## Optional: Write temporary result"
   ]
  },
  {
   "cell_type": "code",
   "execution_count": 4,
   "metadata": {},
   "outputs": [],
   "source": [
    "# suffix_datetime = datetime.strftime(datetime.now(), format='%Y%m%d%H%M')\n",
    "\n",
    "# df_dataset_WMO_with_features.to_parquet(f'../../data/df_preprocess_WMO_{suffix_datetime}.parquet.gzip',\n",
    "#               compression='gzip')"
   ]
  },
  {
   "cell_type": "markdown",
   "metadata": {},
   "source": [
    "# Train"
   ]
  },
  {
   "cell_type": "markdown",
   "metadata": {},
   "source": [
    "## Optional: Load previous dataset"
   ]
  },
  {
   "cell_type": "code",
   "execution_count": 5,
   "metadata": {},
   "outputs": [],
   "source": [
    "## Continue with loaded data from preprocess\n",
    "#df = df_dataset_WMO_with_features.copy()\n",
    "\n",
    "# ## HARDCODED\n",
    "# datapath = '../../data/'\n",
    "# filename = 'df_preprocess_WMO_202103211137.parquet.gzip'\n",
    "# df = pd.read_parquet(datapath + filename)\n",
    "\n",
    "# ## SELECT LAST FILE\n",
    "datapath = '../../data/'\n",
    "df = get_latest_file(filename_str_contains='df_prep_for_train_WMO', datapath=datapath, filetype='parquet')"
   ]
  },
  {
   "cell_type": "code",
   "execution_count": 6,
   "metadata": {},
   "outputs": [
    {
     "name": "stdout",
     "output_type": "stream",
     "text": [
      "<class 'pandas.core.frame.DataFrame'>\n",
      "MultiIndex: 18006 entries, ('WK000300', '2019') to ('WK198703', '2017')\n",
      "Data columns (total 102 columns):\n",
      " #   Column                                          Dtype  \n",
      "---  ------                                          -----  \n",
      " 0   perioden                                        object \n",
      " 1   wmoclienten                                     float64\n",
      " 2   wmoclientenper1000inwoners                      float32\n",
      " 3   periodennum                                     int32  \n",
      " 4   aantalinkomensontvangers                        float64\n",
      " 5   aantalinwoners                                  float64\n",
      " 6   actieven1575jaar                                float64\n",
      " 7   afstandtotgrotesupermarkt                       float64\n",
      " 8   afstandtothuisartsenpraktijk                    float64\n",
      " 9   afstandtotkinderdagverblijf                     float64\n",
      " 10  afstandtotschool                                float64\n",
      " 11  alandbouwbosbouwenvisserij                      float64\n",
      " 12  bedrijfsvestigingentotaal                       float64\n",
      " 13  bevolkingsdichtheid                             float64\n",
      " 14  bfnijverheidenenergie                           float64\n",
      " 15  bouwjaarvanaf2000                               float64\n",
      " 16  bouwjaarvoor2000                                float64\n",
      " 17  eenpersoonshuishoudens                          float64\n",
      " 18  eigendomonbekend                                float64\n",
      " 19  geboorterelatief                                float64\n",
      " 20  geboortetotaal                                  float64\n",
      " 21  gehuwd                                          float64\n",
      " 22  gemelectriciteitsverbruikappartement            float64\n",
      " 23  gemelectriciteitsverbruikeigenwoning            float64\n",
      " 24  gemelectriciteitsverbruikhoekwoning             float64\n",
      " 25  gemelectriciteitsverbruikhuurwoning             float64\n",
      " 26  gemelectriciteitsverbruiktussenwoning           float64\n",
      " 27  gemelectriciteitsverbruiktweeondereenkapwoning  float64\n",
      " 28  gemelectriciteitsverbruikvrijstaandewoning      float64\n",
      " 29  gemgasverbruikappartement                       float64\n",
      " 30  gemgasverbruikeigenwoning                       float64\n",
      " 31  gemgasverbruikhoekwoning                        float64\n",
      " 32  gemgasverbruikhuurwoning                        float64\n",
      " 33  gemgasverbruiktussenwoning                      float64\n",
      " 34  gemgasverbruiktweeondereenkapwoning             float64\n",
      " 35  gemgasverbruikvrijstaandewoning                 float64\n",
      " 36  gemiddeldaardgasverbruiktotaal                  float64\n",
      " 37  gemiddeldehuishoudensgrootte                    float64\n",
      " 38  gemiddeldelektriciteitsverbruiktotaal           float64\n",
      " 39  gemiddeldewoningwaarde                          float64\n",
      " 40  gemiddeldinkomenperinkomensontvanger            float64\n",
      " 41  gemiddeldinkomenperinwoner                      float64\n",
      " 42  gescheiden                                      float64\n",
      " 43  gihandelenhoreca                                float64\n",
      " 44  hjvervoerinformatieencommunicatie               float64\n",
      " 45  huishonderofrondsociaalminimum                  float64\n",
      " 46  huishoudensmeteenlaaginkomen                    float64\n",
      " 47  huishoudensmetkinderen                          float64\n",
      " 48  huishoudenstotaal                               float64\n",
      " 49  huishoudenszonderkinderen                       float64\n",
      " 50  huurwoningentotaal                              float64\n",
      " 51  inbezitoverigeverhuurders                       float64\n",
      " 52  inbezitwoningcorporatie                         float64\n",
      " 53  k0tot15jaar                                     float64\n",
      " 54  k15tot25jaar                                    float64\n",
      " 55  k20huishoudensmethoogsteinkomen                 float64\n",
      " 56  k20personenmethoogsteinkomen                    float64\n",
      " 57  k25tot45jaar                                    float64\n",
      " 58  k40huishoudensmetlaagsteinkomen                 float64\n",
      " 59  k40personenmetlaagsteinkomen                    float64\n",
      " 60  k45tot65jaar                                    float64\n",
      " 61  k65jaarofouder                                  float64\n",
      " 62  klfinancieledienstenonroerendgoed               float64\n",
      " 63  koopwoningen                                    float64\n",
      " 64  mannen                                          float64\n",
      " 65  marokko                                         float64\n",
      " 66  matevanstedelijkheid                            float64\n",
      " 67  mnzakelijkedienstverlening                      float64\n",
      " 68  motorfietsen                                    float64\n",
      " 69  nederlandseantillenenaruba                      float64\n",
      " 70  nietwesterstotaal                               float64\n",
      " 71  omgevingsadressendichtheid                      float64\n",
      " 72  ongehuwd                                        float64\n",
      " 73  oppervlakteland                                 float64\n",
      " 74  oppervlaktetotaal                               float64\n",
      " 75  oppervlaktewater                                float64\n",
      " 76  overignietwesters                               float64\n",
      " 77  percentagebewoond                               float64\n",
      " 78  percentageeengezinswoning                       float64\n",
      " 79  percentagemeergezinswoning                      float64\n",
      " 80  percentageonbewoond                             float64\n",
      " 81  percentagewoningenmetstadsverwarming            float64\n",
      " 82  personenautosbrandstofbenzine                   float64\n",
      " 83  personenautosnaaroppervlakte                    float32\n",
      " 84  personenautosoverigebrandstof                   float64\n",
      " 85  personenautosperhuishouden                      float32\n",
      " 86  personenautostotaal                             float64\n",
      " 87  personenpersoortuitkeringao                     float64\n",
      " 88  personenpersoortuitkeringaow                    float64\n",
      " 89  personenpersoortuitkeringbijstand               float64\n",
      " 90  personenpersoortuitkeringww                     float64\n",
      " 91  rucultuurrecreatieoverigediensten               float64\n",
      " 92  scholenbinnen3km                                float64\n",
      " 93  sterfterelatief                                 float64\n",
      " 94  sterftetotaal                                   float64\n",
      " 95  suriname                                        float64\n",
      " 96  turkije                                         float64\n",
      " 97  verweduwd                                       float64\n",
      " 98  vrouwen                                         float64\n",
      " 99  westerstotaal                                   float64\n",
      " 100 woningvoorraad                                  float64\n",
      " 101 percentagewmoclienten                           float64\n",
      "dtypes: float32(3), float64(97), int32(1), object(1)\n",
      "memory usage: 14.0+ MB\n"
     ]
    }
   ],
   "source": [
    "df.info(verbose = True)"
   ]
  },
  {
   "cell_type": "markdown",
   "metadata": {},
   "source": [
    "## Train model"
   ]
  },
  {
   "cell_type": "markdown",
   "metadata": {},
   "source": [
    "### Train imports"
   ]
  },
  {
   "cell_type": "code",
   "execution_count": 7,
   "metadata": {},
   "outputs": [],
   "source": [
    "import pandas as pd\n",
    "import numpy as np\n",
    "from datetime import datetime\n",
    "import pickle\n",
    "\n",
    "from sklearn.metrics import mean_squared_error\n",
    "from sklearn.model_selection import train_test_split, cross_val_score, RepeatedKFold, GridSearchCV, cross_validate, KFold, cross_val_score\n",
    "from sklearn.linear_model import LogisticRegression, LinearRegression, Ridge, Lasso, LassoCV, ElasticNet, BayesianRidge\n",
    "from sklearn.preprocessing import OneHotEncoder, StandardScaler\n",
    "from sklearn.compose import ColumnTransformer, make_column_transformer\n",
    "from sklearn.pipeline import Pipeline, make_pipeline\n",
    "from sklearn.svm import SVR\n",
    "from sklearn.impute import SimpleImputer\n",
    "from sklearn.neighbors import KNeighborsRegressor\n",
    "from sklearn.decomposition import PCA\n",
    "from sklearn.ensemble import RandomForestRegressor\n",
    "\n",
    "from xgboost import XGBRegressor, XGBClassifier\n",
    "\n",
    "from ColumnSelector import ColumnSelector\n",
    "\n",
    "# instellingen voor panda weergave aanpassen\n",
    "pd.set_option('display.max_rows', 500) # alle rijen tonen\n",
    "pd.set_option('display.max_columns', 500) # alle kolommen tonen\n",
    "pd.set_option('display.width', 1000) # kolombreedte\n",
    "pd.set_option(\"display.precision\", 2)     # precisie van de kolommen aanpassen\n",
    "pd.set_option('display.float_format', lambda x: '{:.3f}'.format(x)) # floats output tot 3 decimalen"
   ]
  },
  {
   "cell_type": "markdown",
   "metadata": {},
   "source": [
    "### Settings"
   ]
  },
  {
   "cell_type": "code",
   "execution_count": 52,
   "metadata": {},
   "outputs": [],
   "source": [
    "## Dataframe parameters\n",
    "# locatie van dataset \n",
    "DF_LOCATION = 'C:/_NoBackup/Git/__JADS/WMO_execute_group_project/data/df_dataset_WMO.parquet.gzip'\n",
    "# Location all data\n",
    "datapath = '../../data/'\n",
    "# manier van laden dataset. Bijvoorbeeld read_parquet of read_csv\n",
    "DF_READ = pd.read_parquet\n",
    "\n",
    "## X & Y parameters\n",
    "# de kolommen die uit de X dataset moeten worden gehaald. Dat is in ieder geval de y en eventueel nog meer kolommen.\n",
    "# X_DROP_VALUES = ['wmoclienten', 'eenpersoonshuishoudens', 'huishoudenszonderkinderen', 'huishoudensmetkinderen']\n",
    "X_DROP_VALUES = ['wmoclienten', 'percentagewmoclienten','wmoclientenper1000inwoners','perioden']\n",
    "# de kolom die wordt gebruikt als y value\n",
    "Y_VALUE = ['wmoclientenper1000inwoners']\n",
    "# test size voor de train/test split\n",
    "TEST_SIZE = 0.3\n",
    "# random state voor de train/test split. Bijvoorbeeld random_state = 42 als vaste seed voor reproduceerbaarheid\n",
    "RANDOM_STATE = 42\n",
    "\n",
    "## Pipeline parameters\n",
    "# strategy en waarde om te vullen bij lege categorische kolommen\n",
    "NAN_VALUES_CAT_STRATEGY = 'constant'\n",
    "NAN_VALUES_CAT_VALUES = 'Missing'\n",
    "# waarden om in te vullen bij lege numerieke kolommen. Bijvoorbeeld mean of median\n",
    "NAN_VALUES_NUM_STRATEGY = 'mean'\n",
    "# \n",
    "#COLS_SELECT = ['aantalinwoners', 'mannen', 'vrouwen', 'k0tot15jaar'\n",
    "#               , 'k15tot25jaar', 'k25tot45jaar', 'k45tot65jaar', 'k65jaarofouder', 'gescheiden'\n",
    "#               , 'verweduwd', 'westerstotaal', 'sterftetotaal', 'gemiddeldehuishoudensgrootte'\n",
    "#               , 'gemiddeldewoningwaarde', 'koopwoningen', 'huurwoningentotaal', 'inbezitwoningcorporatie'\n",
    "#               , 'gemiddeldinkomenperinkomensontvanger', 'k40personenmetlaagsteinkomen', 'k20personenmethoogsteinkomen'\n",
    "#               , 'actieven1575jaar', 'k40huishoudensmetlaagsteinkomen', 'k20huishoudensmethoogsteinkomen'\n",
    "#               , 'huishoudensmeteenlaaginkomen', 'personenpersoortuitkeringaow', 'rucultuurrecreatieoverigediensten'\n",
    "#               , 'personenautosperhuishouden', 'matevanstedelijkheid']\n",
    "COLS_SELECT = None\n",
    "\n",
    "## Model parameters\n",
    "# manier van cross validate in de modellen. Bijvoorbeeld 10 of RepeatedKFold(n_splits=30, n_repeats=5, random_state=1)\n",
    "CROSS_VALIDATE = 2\n",
    "# manier van scoren in de modellen\n",
    "MODEL_SCORING = 'neg_mean_squared_error'\n",
    "\n",
    "## Scoring parameters\n",
    "# Deze kunnen we later toevoegen als we meerdere manieren van scoren hebben. Dus niet alleen maar de RSME"
   ]
  },
  {
   "cell_type": "markdown",
   "metadata": {},
   "source": [
    "### Functions"
   ]
  },
  {
   "cell_type": "code",
   "execution_count": 9,
   "metadata": {},
   "outputs": [],
   "source": [
    "# functie maken om op basis van de cv scores, het beste RMSE model te selecteren \n",
    "def get_best_model_rmsle(cv_scores):\n",
    "    \"\"\"\n",
    "    Return best (most conservative) model from cross_validate object.\n",
    "    \n",
    "    Uses np.argmax to find bottomright point == largest RMSE\n",
    "    \"\"\"\n",
    "    index = np.argmax(np.sqrt(-cv_scores['train_neg_mean_squared_error']))\n",
    "    model = cv_scores['estimator'][index]\n",
    "    rmse = np.sqrt(mean_squared_error(y_test, model.predict(X_test)))\n",
    "    return (rmse)"
   ]
  },
  {
   "cell_type": "markdown",
   "metadata": {},
   "source": [
    "### Load data"
   ]
  },
  {
   "cell_type": "code",
   "execution_count": 10,
   "metadata": {},
   "outputs": [],
   "source": [
    "# ## Done before start of 'Train' chapter\n",
    "# df = get_latest_file(mypath=datapath)"
   ]
  },
  {
   "cell_type": "markdown",
   "metadata": {},
   "source": [
    "#### Stappen hieronder mogelijk verplaatsten naar prepare stap, later beoordelen"
   ]
  },
  {
   "cell_type": "code",
   "execution_count": 11,
   "metadata": {},
   "outputs": [],
   "source": [
    "# droppen van de rijen waar de y_value leeg is, anders kunnen de modellen er niet mee overweg\n",
    "df.dropna(\n",
    "    axis=0,\n",
    "    how='any',\n",
    "    thresh=None,\n",
    "    subset=Y_VALUE,\n",
    "    inplace=True\n",
    ")"
   ]
  },
  {
   "cell_type": "code",
   "execution_count": 12,
   "metadata": {},
   "outputs": [],
   "source": [
    "# X en y aanmaken\n",
    "X = df.drop(X_DROP_VALUES, axis=1)\n",
    "# y = df[Y_VALUE]*100 # 0.01 -> 1.0 percentage\n",
    "y = df[Y_VALUE] # 0.01 -> 1.0 percentage"
   ]
  },
  {
   "cell_type": "code",
   "execution_count": 13,
   "metadata": {},
   "outputs": [],
   "source": [
    "# splitsen van X en y in train/test. \n",
    "X_train, X_test, y_train, y_test = train_test_split(X, y, test_size = TEST_SIZE, random_state = RANDOM_STATE)"
   ]
  },
  {
   "cell_type": "code",
   "execution_count": 14,
   "metadata": {},
   "outputs": [],
   "source": [
    "# splitsen van X_train in categorische en numerieke kolommen, om apart te kunnen transformeren\n",
    "cat_cols = X_train.select_dtypes(include=['category']).columns\n",
    "num_cols = X_train.select_dtypes(include=['int64','float64','float32','int32']).columns"
   ]
  },
  {
   "cell_type": "markdown",
   "metadata": {},
   "source": [
    "### Pipelines"
   ]
  },
  {
   "cell_type": "code",
   "execution_count": 15,
   "metadata": {},
   "outputs": [],
   "source": [
    "# pipelines (pl) maken voor imputing, scaling en OneHotEncoding per datatype \n",
    "\n",
    "# categorie met waarde die is gegeven aan \"MISSING\" toevoegen\n",
    "for col in cat_cols:\n",
    "    # need to add category for missings, otherwise error with OneHotEncoding (volgens mij ook met alleen imputing)\n",
    "    X_train[col].cat.add_categories(NAN_VALUES_CAT_VALUES, inplace=True)\n",
    "categories = [X_train[col].cat.categories for col in cat_cols]\n",
    "\n",
    "# pipeline voor categorial datatype\n",
    "pl_ppc_cat = make_pipeline(\n",
    "     SimpleImputer(\n",
    "         missing_values = np.nan\n",
    "        ,strategy = NAN_VALUES_CAT_STRATEGY\n",
    "        ,fill_value = NAN_VALUES_CAT_VALUES)\n",
    "    ,OneHotEncoder(categories=categories)\n",
    ")\n",
    "\n",
    "# pipeline voor numeriek datatype\n",
    "pl_ppc_num = make_pipeline(\n",
    "      ColumnSelector(cols=COLS_SELECT)\n",
    "    ,SimpleImputer(\n",
    "         missing_values = np.nan\n",
    "        ,strategy = NAN_VALUES_NUM_STRATEGY)\n",
    "    ,StandardScaler()\n",
    "    ,PCA() # PCA heeft behoorlijk wat (positieve) invloed op de scores\n",
    ")"
   ]
  },
  {
   "cell_type": "code",
   "execution_count": 16,
   "metadata": {},
   "outputs": [],
   "source": [
    "# pipelines maken om de preprocessing van de imputing te combineren\n",
    "pl_ppc_total = make_column_transformer(\n",
    "     (pl_ppc_cat, cat_cols)\n",
    "    ,(pl_ppc_num, num_cols)\n",
    "    ,remainder = 'drop'\n",
    ")"
   ]
  },
  {
   "cell_type": "markdown",
   "metadata": {},
   "source": [
    "## Gridsearch"
   ]
  },
  {
   "cell_type": "markdown",
   "metadata": {},
   "source": [
    "Het maken van een GridSearch pipeline voor elk model:"
   ]
  },
  {
   "cell_type": "code",
   "execution_count": 69,
   "metadata": {},
   "outputs": [],
   "source": [
    "# pipeline maken voor Linear Regression\n",
    "pl_gs_lr = Pipeline(\n",
    "     [('preprocess', pl_ppc_total),\n",
    "     ('model_lr',LinearRegression()) \n",
    "     ]\n",
    ")\n",
    "\n",
    "# pipeline maken voor RidgeRegression\n",
    "pl_gs_rr = Pipeline(\n",
    "     [('preprocess', pl_ppc_total),\n",
    "     ('model_rr',Ridge()) \n",
    "     ]\n",
    ")\n",
    "\n",
    "# pipeline maken voor Lasso\n",
    "pl_gs_lasso = Pipeline(\n",
    "     [('preprocess', pl_ppc_total),\n",
    "       ('model_lasso',Lasso()) \n",
    "     ]\n",
    ")\n",
    "\n",
    "# pipeline maken voor KNN\n",
    "pl_gs_knn = Pipeline(\n",
    "     [('preprocess', pl_ppc_total),\n",
    "       ('model_knn', KNeighborsRegressor()) \n",
    "     ]\n",
    ")\n",
    "\n",
    "# pipeline maken voor SVM\n",
    "pl_gs_svm = Pipeline(\n",
    "     [('preprocess', pl_ppc_total),\n",
    "       ('model_svm', SVR()) \n",
    "     ]\n",
    ")\n",
    "\n",
    "# pipeline maken voor XGB\n",
    "pl_gs_xgb = Pipeline(\n",
    "     [('preprocess', pl_ppc_total),\n",
    "       ('model_xgb',XGBRegressor()) \n",
    "     ]\n",
    ")"
   ]
  },
  {
   "cell_type": "markdown",
   "metadata": {},
   "source": [
    "Het zetten van de gridsearch parameters per model"
   ]
  },
  {
   "cell_type": "code",
   "execution_count": 70,
   "metadata": {},
   "outputs": [],
   "source": [
    "ALPHA = [0.001, 0.01, 0.1, 1, 10, 100, 1000]\n",
    "NEIGHBORS = [3, 5, 11, 19]\n",
    "NORMALIZE = [True, False]\n",
    "KERNEL = ['linear', 'poly', 'rbf', 'sigmoid', 'precomputed']\n",
    "GAMMA = [0.5, 1, 1.5, 2, 5]\n",
    "\n",
    "# Parameters Linieare Regression\n",
    "param_grid_lr = [\n",
    "    {'model_lr__normalize': NORMALIZE},\n",
    "]\n",
    "\n",
    "# Parameters RidgeRegression\n",
    "param_grid_rr = [\n",
    "     {'model_rr__alpha': ALPHA},  \n",
    "  ]\n",
    "\n",
    "# Parameters KNneighbors\n",
    "param_grid_knn = [\n",
    "     {'model_knn__n_neighbors': NEIGHBORS },  \n",
    "  ]\n",
    "\n",
    "# Parameters SVM\n",
    "param_grid_svm = [\n",
    "     {'model_svm__kernel': KERNEL },  \n",
    "  ]\n",
    "\n",
    "# Parameters XGB\n",
    "param_grid_xgb = [\n",
    "     {'model_xgb__gamma': GAMMA},  \n",
    "  ]"
   ]
  },
  {
   "cell_type": "code",
   "execution_count": null,
   "metadata": {},
   "outputs": [],
   "source": [
    "%%time\n",
    "# Gridsearch LR \n",
    "grid_search_lr = GridSearchCV(pl_gs_lr, param_grid_lr, cv=CROSS_VALIDATE,\n",
    "                           scoring=MODEL_SCORING,\n",
    "                           return_train_score=True)\n",
    "grid_search_lr.fit(X_train, y_train)"
   ]
  },
  {
   "cell_type": "code",
   "execution_count": null,
   "metadata": {},
   "outputs": [],
   "source": [
    "%%time\n",
    "# Gridsearch RR \n",
    "grid_search_rr = GridSearchCV(pl_gs_rr, param_grid_rr, cv=CROSS_VALIDATE,\n",
    "                           scoring=MODEL_SCORING,\n",
    "                           return_train_score=True)\n",
    "grid_search_rr.fit(X_train, y_train)"
   ]
  },
  {
   "cell_type": "code",
   "execution_count": 60,
   "metadata": {},
   "outputs": [
    {
     "name": "stdout",
     "output_type": "stream",
     "text": [
      "CPU times: user 56.3 s, sys: 785 ms, total: 57.1 s\n",
      "Wall time: 1min 1s\n"
     ]
    },
    {
     "data": {
      "text/plain": [
       "GridSearchCV(cv=2,\n",
       "             estimator=Pipeline(steps=[('preprocess',\n",
       "                                        ColumnTransformer(transformers=[('pipeline-1',\n",
       "                                                                         Pipeline(steps=[('simpleimputer',\n",
       "                                                                                          SimpleImputer(fill_value='Missing',\n",
       "                                                                                                        strategy='constant')),\n",
       "                                                                                         ('onehotencoder',\n",
       "                                                                                          OneHotEncoder(categories=[]))]),\n",
       "                                                                         Index([], dtype='object')),\n",
       "                                                                        ('pipeline-2',\n",
       "                                                                         Pipeline(steps=[('columnselector',\n",
       "                                                                                          ColumnSelector()),\n",
       "                                                                                         ('simpleimputer...\n",
       "       'percentagebewoond', 'percentageeengezinswoning', 'percentagemeergezinswoning', 'percentageonbewoond', 'percentagewoningenmetstadsverwarming', 'personenautosbrandstofbenzine', 'personenautosnaaroppervlakte', 'personenautosoverigebrandstof', 'personenautosperhuishouden', 'personenautostotaal', 'personenpersoortuitkeringao', 'personenpersoortuitkeringaow', 'personenpersoortuitkeringbijstand', 'personenpersoortuitkeringww', 'rucultuurrecreatieoverigediensten', 'scholenbinnen3km', 'sterfterelatief', 'sterftetotaal', 'suriname', 'turkije', 'verweduwd', 'vrouwen', 'westerstotaal', 'woningvoorraad'],\n",
       "      dtype='object'))])),\n",
       "                                       ('model_knn', KNeighborsRegressor())]),\n",
       "             param_grid=[{'model_knn__n_neighbors': [3, 5, 11, 19]}],\n",
       "             return_train_score=True, scoring='neg_mean_squared_error')"
      ]
     },
     "execution_count": 60,
     "metadata": {},
     "output_type": "execute_result"
    }
   ],
   "source": [
    "%%time\n",
    "# Gridsearch KNN \n",
    "grid_search_knn = GridSearchCV(pl_gs_knn, param_grid_knn, cv=CROSS_VALIDATE,\n",
    "                           scoring=MODEL_SCORING,\n",
    "                           return_train_score=True)\n",
    "grid_search_knn.fit(X_train, y_train)"
   ]
  },
  {
   "cell_type": "code",
   "execution_count": 67,
   "metadata": {},
   "outputs": [
    {
     "name": "stderr",
     "output_type": "stream",
     "text": [
      "/Users/nickneppelenbroek/opt/anaconda3/lib/python3.8/site-packages/sklearn/utils/validation.py:72: DataConversionWarning: A column-vector y was passed when a 1d array was expected. Please change the shape of y to (n_samples, ), for example using ravel().\n",
      "  return f(**kwargs)\n",
      "/Users/nickneppelenbroek/opt/anaconda3/lib/python3.8/site-packages/sklearn/utils/validation.py:72: DataConversionWarning: A column-vector y was passed when a 1d array was expected. Please change the shape of y to (n_samples, ), for example using ravel().\n",
      "  return f(**kwargs)\n",
      "/Users/nickneppelenbroek/opt/anaconda3/lib/python3.8/site-packages/sklearn/utils/validation.py:72: DataConversionWarning: A column-vector y was passed when a 1d array was expected. Please change the shape of y to (n_samples, ), for example using ravel().\n",
      "  return f(**kwargs)\n",
      "/Users/nickneppelenbroek/opt/anaconda3/lib/python3.8/site-packages/sklearn/utils/validation.py:72: DataConversionWarning: A column-vector y was passed when a 1d array was expected. Please change the shape of y to (n_samples, ), for example using ravel().\n",
      "  return f(**kwargs)\n",
      "/Users/nickneppelenbroek/opt/anaconda3/lib/python3.8/site-packages/sklearn/utils/validation.py:72: DataConversionWarning: A column-vector y was passed when a 1d array was expected. Please change the shape of y to (n_samples, ), for example using ravel().\n",
      "  return f(**kwargs)\n",
      "/Users/nickneppelenbroek/opt/anaconda3/lib/python3.8/site-packages/sklearn/utils/validation.py:72: DataConversionWarning: A column-vector y was passed when a 1d array was expected. Please change the shape of y to (n_samples, ), for example using ravel().\n",
      "  return f(**kwargs)\n",
      "/Users/nickneppelenbroek/opt/anaconda3/lib/python3.8/site-packages/sklearn/utils/validation.py:72: DataConversionWarning: A column-vector y was passed when a 1d array was expected. Please change the shape of y to (n_samples, ), for example using ravel().\n",
      "  return f(**kwargs)\n",
      "/Users/nickneppelenbroek/opt/anaconda3/lib/python3.8/site-packages/sklearn/utils/validation.py:72: DataConversionWarning: A column-vector y was passed when a 1d array was expected. Please change the shape of y to (n_samples, ), for example using ravel().\n",
      "  return f(**kwargs)\n",
      "/Users/nickneppelenbroek/opt/anaconda3/lib/python3.8/site-packages/sklearn/utils/validation.py:72: DataConversionWarning: A column-vector y was passed when a 1d array was expected. Please change the shape of y to (n_samples, ), for example using ravel().\n",
      "  return f(**kwargs)\n",
      "/Users/nickneppelenbroek/opt/anaconda3/lib/python3.8/site-packages/sklearn/model_selection/_validation.py:548: FitFailedWarning: Estimator fit failed. The score on this train-test partition for these parameters will be set to nan. Details: \n",
      "Traceback (most recent call last):\n",
      "  File \"/Users/nickneppelenbroek/opt/anaconda3/lib/python3.8/site-packages/sklearn/model_selection/_validation.py\", line 531, in _fit_and_score\n",
      "    estimator.fit(X_train, y_train, **fit_params)\n",
      "  File \"/Users/nickneppelenbroek/opt/anaconda3/lib/python3.8/site-packages/sklearn/pipeline.py\", line 335, in fit\n",
      "    self._final_estimator.fit(Xt, y, **fit_params_last_step)\n",
      "  File \"/Users/nickneppelenbroek/opt/anaconda3/lib/python3.8/site-packages/sklearn/svm/_base.py\", line 179, in fit\n",
      "    raise ValueError(\"Precomputed matrix must be a square matrix.\"\n",
      "ValueError: Precomputed matrix must be a square matrix. Input is a 5364x98 matrix.\n",
      "\n",
      "  warnings.warn(\"Estimator fit failed. The score on this train-test\"\n",
      "/Users/nickneppelenbroek/opt/anaconda3/lib/python3.8/site-packages/sklearn/utils/validation.py:72: DataConversionWarning: A column-vector y was passed when a 1d array was expected. Please change the shape of y to (n_samples, ), for example using ravel().\n",
      "  return f(**kwargs)\n",
      "/Users/nickneppelenbroek/opt/anaconda3/lib/python3.8/site-packages/sklearn/model_selection/_validation.py:548: FitFailedWarning: Estimator fit failed. The score on this train-test partition for these parameters will be set to nan. Details: \n",
      "Traceback (most recent call last):\n",
      "  File \"/Users/nickneppelenbroek/opt/anaconda3/lib/python3.8/site-packages/sklearn/model_selection/_validation.py\", line 531, in _fit_and_score\n",
      "    estimator.fit(X_train, y_train, **fit_params)\n",
      "  File \"/Users/nickneppelenbroek/opt/anaconda3/lib/python3.8/site-packages/sklearn/pipeline.py\", line 335, in fit\n",
      "    self._final_estimator.fit(Xt, y, **fit_params_last_step)\n",
      "  File \"/Users/nickneppelenbroek/opt/anaconda3/lib/python3.8/site-packages/sklearn/svm/_base.py\", line 179, in fit\n",
      "    raise ValueError(\"Precomputed matrix must be a square matrix.\"\n",
      "ValueError: Precomputed matrix must be a square matrix. Input is a 5364x98 matrix.\n",
      "\n",
      "  warnings.warn(\"Estimator fit failed. The score on this train-test\"\n",
      "/Users/nickneppelenbroek/opt/anaconda3/lib/python3.8/site-packages/sklearn/utils/validation.py:72: DataConversionWarning: A column-vector y was passed when a 1d array was expected. Please change the shape of y to (n_samples, ), for example using ravel().\n",
      "  return f(**kwargs)\n"
     ]
    },
    {
     "name": "stdout",
     "output_type": "stream",
     "text": [
      "CPU times: user 1min 53s, sys: 1.79 s, total: 1min 54s\n",
      "Wall time: 2min 4s\n"
     ]
    },
    {
     "data": {
      "text/plain": [
       "GridSearchCV(cv=2,\n",
       "             estimator=Pipeline(steps=[('preprocess',\n",
       "                                        ColumnTransformer(transformers=[('pipeline-1',\n",
       "                                                                         Pipeline(steps=[('simpleimputer',\n",
       "                                                                                          SimpleImputer(fill_value='Missing',\n",
       "                                                                                                        strategy='constant')),\n",
       "                                                                                         ('onehotencoder',\n",
       "                                                                                          OneHotEncoder(categories=[]))]),\n",
       "                                                                         Index([], dtype='object')),\n",
       "                                                                        ('pipeline-2',\n",
       "                                                                         Pipeline(steps=[('columnselector',\n",
       "                                                                                          ColumnSelector()),\n",
       "                                                                                         ('simpleimputer...\n",
       "       'percentagebewoond', 'percentageeengezinswoning', 'percentagemeergezinswoning', 'percentageonbewoond', 'percentagewoningenmetstadsverwarming', 'personenautosbrandstofbenzine', 'personenautosnaaroppervlakte', 'personenautosoverigebrandstof', 'personenautosperhuishouden', 'personenautostotaal', 'personenpersoortuitkeringao', 'personenpersoortuitkeringaow', 'personenpersoortuitkeringbijstand', 'personenpersoortuitkeringww', 'rucultuurrecreatieoverigediensten', 'scholenbinnen3km', 'sterfterelatief', 'sterftetotaal', 'suriname', 'turkije', 'verweduwd', 'vrouwen', 'westerstotaal', 'woningvoorraad'],\n",
       "      dtype='object'))])),\n",
       "                                       ('model_svm', SVR())]),\n",
       "             param_grid=[{'model_svm__kernel': ['linear', 'poly', 'rbf',\n",
       "                                                'sigmoid', 'precomputed']}],\n",
       "             return_train_score=True, scoring='neg_mean_squared_error')"
      ]
     },
     "execution_count": 67,
     "metadata": {},
     "output_type": "execute_result"
    }
   ],
   "source": [
    "%%time\n",
    "# Gridsearch SVM \n",
    "grid_search_svm = GridSearchCV(pl_gs_svm, param_grid_svm, cv=CROSS_VALIDATE,\n",
    "                           scoring=MODEL_SCORING,\n",
    "                           return_train_score=True)\n",
    "grid_search_svm.fit(X_train, y_train)"
   ]
  },
  {
   "cell_type": "code",
   "execution_count": 71,
   "metadata": {},
   "outputs": [
    {
     "name": "stdout",
     "output_type": "stream",
     "text": [
      "CPU times: user 3min 42s, sys: 2.6 s, total: 3min 44s\n",
      "Wall time: 1min 29s\n"
     ]
    },
    {
     "data": {
      "text/plain": [
       "GridSearchCV(cv=2,\n",
       "             estimator=Pipeline(steps=[('preprocess',\n",
       "                                        ColumnTransformer(transformers=[('pipeline-1',\n",
       "                                                                         Pipeline(steps=[('simpleimputer',\n",
       "                                                                                          SimpleImputer(fill_value='Missing',\n",
       "                                                                                                        strategy='constant')),\n",
       "                                                                                         ('onehotencoder',\n",
       "                                                                                          OneHotEncoder(categories=[]))]),\n",
       "                                                                         Index([], dtype='object')),\n",
       "                                                                        ('pipeline-2',\n",
       "                                                                         Pipeline(steps=[('columnselector',\n",
       "                                                                                          ColumnSelector()),\n",
       "                                                                                         ('simpleimputer...\n",
       "                                                     min_child_weight=None,\n",
       "                                                     missing=nan,\n",
       "                                                     monotone_constraints=None,\n",
       "                                                     n_estimators=100,\n",
       "                                                     n_jobs=None,\n",
       "                                                     num_parallel_tree=None,\n",
       "                                                     random_state=None,\n",
       "                                                     reg_alpha=None,\n",
       "                                                     reg_lambda=None,\n",
       "                                                     scale_pos_weight=None,\n",
       "                                                     subsample=None,\n",
       "                                                     tree_method=None,\n",
       "                                                     validate_parameters=None,\n",
       "                                                     verbosity=None))]),\n",
       "             param_grid=[{'model_xgb__gamma': [0.5, 1, 1.5, 2, 5]}],\n",
       "             return_train_score=True, scoring='neg_mean_squared_error')"
      ]
     },
     "execution_count": 71,
     "metadata": {},
     "output_type": "execute_result"
    }
   ],
   "source": [
    "%%time\n",
    "# Gridsearch XGB\n",
    "grid_search_xgb = GridSearchCV(pl_gs_xgb, param_grid_xgb, cv=CROSS_VALIDATE,\n",
    "                           scoring=MODEL_SCORING,\n",
    "                           return_train_score=True)\n",
    "grid_search_xgb.fit(X_train, y_train)"
   ]
  },
  {
   "cell_type": "code",
   "execution_count": null,
   "metadata": {},
   "outputs": [],
   "source": [
    "grid_search.best_params_"
   ]
  },
  {
   "cell_type": "code",
   "execution_count": null,
   "metadata": {},
   "outputs": [],
   "source": [
    "pd_grid_search = pd.DataFrame(grid_search.cv_results_)\n",
    "pd_grid_search.head(100)"
   ]
  },
  {
   "cell_type": "code",
   "execution_count": null,
   "metadata": {},
   "outputs": [],
   "source": [
    "grid_search.best_estimator_"
   ]
  },
  {
   "cell_type": "markdown",
   "metadata": {},
   "source": [
    "## Train pipelines maken"
   ]
  },
  {
   "cell_type": "code",
   "execution_count": null,
   "metadata": {},
   "outputs": [],
   "source": [
    "# pipeline maken voor LinearRegression \n",
    "pl_lr = make_pipeline(\n",
    "     pl_ppc_total\n",
    "    ,LinearRegression()\n",
    ")"
   ]
  },
  {
   "cell_type": "code",
   "execution_count": null,
   "metadata": {},
   "outputs": [],
   "source": [
    "# pipeline maken voor RidgeRegression \n",
    "pl_rr = make_pipeline(\n",
    "     pl_ppc_total\n",
    "    ,Ridge()\n",
    ")"
   ]
  },
  {
   "cell_type": "code",
   "execution_count": null,
   "metadata": {},
   "outputs": [],
   "source": [
    "# pipeline maken voor Lasso\n",
    "pl_lasso = make_pipeline(\n",
    "      pl_ppc_total\n",
    "     ,Lasso(alpha=0.001)\n",
    ")"
   ]
  },
  {
   "cell_type": "code",
   "execution_count": null,
   "metadata": {},
   "outputs": [],
   "source": [
    "# pipeline maken voor KNN\n",
    "pl_knn = make_pipeline(\n",
    "      pl_ppc_total\n",
    "     ,KNeighborsRegressor()\n",
    ")"
   ]
  },
  {
   "cell_type": "code",
   "execution_count": null,
   "metadata": {},
   "outputs": [],
   "source": [
    "# pipeline maken voor SVM\n",
    "pl_svm = make_pipeline(\n",
    "      pl_ppc_total\n",
    "     ,SVR()\n",
    ")"
   ]
  },
  {
   "cell_type": "code",
   "execution_count": null,
   "metadata": {},
   "outputs": [],
   "source": [
    "# pipeline maken voor XGB\n",
    "pl_xgb = make_pipeline(\n",
    "      pl_ppc_total\n",
    "     ,XGBRegressor()\n",
    ") "
   ]
  },
  {
   "cell_type": "markdown",
   "metadata": {},
   "source": [
    "### Train"
   ]
  },
  {
   "cell_type": "markdown",
   "metadata": {},
   "source": [
    "##### Lineair Regression"
   ]
  },
  {
   "cell_type": "code",
   "execution_count": null,
   "metadata": {},
   "outputs": [],
   "source": [
    "# scores voor LR berekenen\n",
    "lr_scores = cross_validate(\n",
    "    pl_lr, X_train, y_train,\n",
    "    cv = CROSS_VALIDATE,\n",
    "    scoring=([MODEL_SCORING]),\n",
    "    return_train_score=True,\n",
    "    return_estimator=True,\n",
    ")"
   ]
  },
  {
   "cell_type": "markdown",
   "metadata": {},
   "source": [
    "##### Ridge Regression"
   ]
  },
  {
   "cell_type": "code",
   "execution_count": null,
   "metadata": {},
   "outputs": [],
   "source": [
    "rr_scores = cross_validate(\n",
    "    pl_rr, X_train, y_train,\n",
    "    cv = CROSS_VALIDATE,\n",
    "    scoring = ([MODEL_SCORING]),\n",
    "    return_train_score=True,\n",
    "    return_estimator=True,\n",
    ")"
   ]
  },
  {
   "cell_type": "markdown",
   "metadata": {},
   "source": [
    "##### Lasso"
   ]
  },
  {
   "cell_type": "code",
   "execution_count": null,
   "metadata": {},
   "outputs": [],
   "source": [
    "lasso_scores = cross_validate(\n",
    "    pl_lasso, X_train, y_train,\n",
    "    cv = CROSS_VALIDATE,\n",
    "    scoring = ([MODEL_SCORING]),\n",
    "    return_train_score=True,\n",
    "    return_estimator=True,\n",
    ")"
   ]
  },
  {
   "cell_type": "markdown",
   "metadata": {},
   "source": [
    "##### K Nearest Neighbor"
   ]
  },
  {
   "cell_type": "code",
   "execution_count": null,
   "metadata": {},
   "outputs": [],
   "source": [
    "knn_scores = cross_validate(\n",
    "    pl_knn, X_train, y_train,\n",
    "    cv = CROSS_VALIDATE,\n",
    "    scoring = ([MODEL_SCORING]),\n",
    "    return_train_score=True,\n",
    "    return_estimator=True,\n",
    ")"
   ]
  },
  {
   "cell_type": "markdown",
   "metadata": {},
   "source": [
    "##### Support Vector Machines"
   ]
  },
  {
   "cell_type": "code",
   "execution_count": null,
   "metadata": {
    "scrolled": true
   },
   "outputs": [],
   "source": [
    "svm_scores = cross_validate(\n",
    "    pl_svm, X_train, y_train,\n",
    "    cv = CROSS_VALIDATE,\n",
    "    scoring = ([MODEL_SCORING]),\n",
    "    return_train_score=True,\n",
    "    return_estimator=True,\n",
    ")"
   ]
  },
  {
   "cell_type": "markdown",
   "metadata": {},
   "source": [
    "##### XGBoost"
   ]
  },
  {
   "cell_type": "code",
   "execution_count": null,
   "metadata": {},
   "outputs": [],
   "source": [
    "xgb_scores = cross_validate(\n",
    "    pl_xgb, X_train, y_train,\n",
    "    cv = CROSS_VALIDATE,\n",
    "    scoring = ([MODEL_SCORING]),\n",
    "    return_train_score=True,\n",
    "    return_estimator=True,\n",
    ")"
   ]
  },
  {
   "cell_type": "markdown",
   "metadata": {},
   "source": [
    "### Evaluate"
   ]
  },
  {
   "cell_type": "markdown",
   "metadata": {},
   "source": [
    "#### Calculate scores"
   ]
  },
  {
   "cell_type": "code",
   "execution_count": null,
   "metadata": {},
   "outputs": [],
   "source": [
    "# toevoegen van de beste scores, per model, aan een lijst\n",
    "scores = []\n",
    "scores.append(('Linear Regression',  get_best_model_rmsle(lr_scores)))\n",
    "scores.append(('Ridge Regression',  get_best_model_rmsle(rr_scores)))\n",
    "scores.append(('Lasso', get_best_model_rmsle(lasso_scores)))\n",
    "scores.append(('K Nearest Neighbor', get_best_model_rmsle(knn_scores)))\n",
    "scores.append(('Support Vector Machines', get_best_model_rmsle(svm_scores)))\n",
    "scores.append(('XGBoost', get_best_model_rmsle(xgb_scores)))"
   ]
  },
  {
   "cell_type": "code",
   "execution_count": null,
   "metadata": {},
   "outputs": [],
   "source": [
    "scores.append(('Lasso', get_best_model_rmsle(lasso_scores)))"
   ]
  },
  {
   "cell_type": "code",
   "execution_count": 99,
   "metadata": {},
   "outputs": [
    {
     "data": {
      "text/html": [
       "<div>\n",
       "<style scoped>\n",
       "    .dataframe tbody tr th:only-of-type {\n",
       "        vertical-align: middle;\n",
       "    }\n",
       "\n",
       "    .dataframe tbody tr th {\n",
       "        vertical-align: top;\n",
       "    }\n",
       "\n",
       "    .dataframe thead th {\n",
       "        text-align: right;\n",
       "    }\n",
       "</style>\n",
       "<table border=\"1\" class=\"dataframe\">\n",
       "  <thead>\n",
       "    <tr style=\"text-align: right;\">\n",
       "      <th></th>\n",
       "      <th>Algorithm</th>\n",
       "      <th>RMSE</th>\n",
       "    </tr>\n",
       "  </thead>\n",
       "  <tbody>\n",
       "    <tr>\n",
       "      <th>0</th>\n",
       "      <td>Lasso</td>\n",
       "      <td>0.0020636175</td>\n",
       "    </tr>\n",
       "  </tbody>\n",
       "</table>\n",
       "</div>"
      ],
      "text/plain": [
       "  Algorithm          RMSE\n",
       "0     Lasso  0.0020636175"
      ]
     },
     "execution_count": 99,
     "metadata": {},
     "output_type": "execute_result"
    }
   ],
   "source": [
    "# maken van een dataframe met daarin de gesorteerde scores per model\n",
    "scores = pd.DataFrame(scores)\n",
    "scores.columns = ['Algorithm', 'RMSE'] \n",
    "scores['RMSE'] = scores['RMSE'].map('{:,.10f}'.format)\n",
    "scores = scores.sort_values('RMSE', ascending=True)\n",
    "scores = scores.reset_index(drop=True)\n",
    "scores"
   ]
  },
  {
   "cell_type": "code",
   "execution_count": 93,
   "metadata": {},
   "outputs": [
    {
     "name": "stdout",
     "output_type": "stream",
     "text": [
      "Het algoritme met de laagste RMSE is:\n",
      "\n",
      "Lasso, met een RMSE van 0.0114301235\n"
     ]
    }
   ],
   "source": [
    "# and the winner is...\n",
    "print(f\"Het algoritme met de laagste RMSE is:\\n\\n{scores.iloc[0,0]}, met een RMSE van {scores.iloc[0,1]}\")"
   ]
  },
  {
   "cell_type": "markdown",
   "metadata": {},
   "source": [
    "#### Feature importance"
   ]
  },
  {
   "cell_type": "code",
   "execution_count": null,
   "metadata": {},
   "outputs": [],
   "source": [
    "## TODO"
   ]
  },
  {
   "cell_type": "markdown",
   "metadata": {},
   "source": [
    "### Save model"
   ]
  },
  {
   "cell_type": "code",
   "execution_count": null,
   "metadata": {},
   "outputs": [],
   "source": [
    "# Temporary: select best model (needs function)\n",
    "BEST_SCORE = lasso_scores\n",
    "index = np.argmax(np.sqrt(-BEST_SCORE['train_neg_mean_squared_error']))\n",
    "model = BEST_SCORE['estimator'][index]"
   ]
  },
  {
   "cell_type": "code",
   "execution_count": null,
   "metadata": {},
   "outputs": [],
   "source": [
    "suffix_datetime = datetime.strftime(datetime.now(), format='%Y%m%d%H%M')\n",
    "filename = f'../../data/best_model_{suffix_datetime}.pickle'\n",
    "\n",
    "pickle.dump(model, open(filename, 'wb'))"
   ]
  },
  {
   "cell_type": "markdown",
   "metadata": {},
   "source": [
    "#### Test load model"
   ]
  },
  {
   "cell_type": "code",
   "execution_count": null,
   "metadata": {},
   "outputs": [],
   "source": [
    "loaded_model = get_latest_file(filename_str_contains='best_model_', datapath=datapath, filetype='pickle')"
   ]
  },
  {
   "cell_type": "code",
   "execution_count": null,
   "metadata": {},
   "outputs": [],
   "source": [
    "result = loaded_model.score(X_test, y_test)\n",
    "print(result)"
   ]
  },
  {
   "cell_type": "code",
   "execution_count": null,
   "metadata": {},
   "outputs": [],
   "source": [
    "loaded_model.predict(X_test)"
   ]
  },
  {
   "cell_type": "code",
   "execution_count": null,
   "metadata": {},
   "outputs": [],
   "source": []
  }
 ],
 "metadata": {
  "kernelspec": {
   "display_name": "Python 3",
   "language": "python",
   "name": "python3"
  },
  "language_info": {
   "codemirror_mode": {
    "name": "ipython",
    "version": 3
   },
   "file_extension": ".py",
   "mimetype": "text/x-python",
   "name": "python",
   "nbconvert_exporter": "python",
   "pygments_lexer": "ipython3",
   "version": "3.8.5"
  },
  "toc": {
   "base_numbering": 1,
   "nav_menu": {},
   "number_sections": true,
   "sideBar": true,
   "skip_h1_title": false,
   "title_cell": "Table of Contents",
   "title_sidebar": "Contents",
   "toc_cell": false,
   "toc_position": {},
   "toc_section_display": true,
   "toc_window_display": false
  }
 },
 "nbformat": 4,
 "nbformat_minor": 4
}
